{
 "cells": [
  {
   "cell_type": "markdown",
   "metadata": {},
   "source": [
    "<ol>\n",
    "<li>Experiment with multiplying strings or lists with integers and see what happens. Having seen that ;create a variable    which holds value ‘xyzxyzxyzxyzxyzxyzxyzxyzxyzxyz’</li>\n",
    "   \n",
    "<br></br>\n",
    "<li>Using list comprehension ,list related functions or otherwise, create following list:\n",
    "<br></br>\n",
    "   [[1, 2, 3, 4, 5, 6, 7], [1, 4, 9, 16, 25, 36, 49], [1, 8, 27, 64, 125, 216,343]]</li>\n",
    "\n",
    "\n",
    "<br></br>\n",
    "<li>Write a function which takes input as list and returns a list which contains a sequence of 10 equally spaced numbers between min and max of the string if minimum and maximum value of lists is same then it returns a list with 10 zeroes.\n",
    "    <br></br>\n",
    "   example:\n",
    "   <br></br>\n",
    "   input list : [20, 2, 6, 7, 10]\n",
    "   <br></br>\n",
    "   output list : [2,4,6,8,10,12,14,16,18,20]\n",
    "</li>\n",
    "<br></br>\n",
    "<li>Show by example how to sort a dictionary by its values</li>\n",
    "<br></br>\n",
    "<li>Write a function which takes input 3 dictionaries and returns a new dictionary which has all key value pairs from those three dictionaries\n",
    "</li>\n",
    "<br></br>\n",
    "<li>Write a function which takes input a string and returns reversed string example\n",
    "<br></br>\n",
    "   input : “string”\n",
    "  <br></br> \n",
    "   output : “gnirts”\n",
    "    \n",
    "</li>\n",
    "<br></br>\n",
    "<li>Consider this dictionary of addresses :\n",
    "<br></br>\n",
    "   {“home” : [“Hyderabad”,“Lingampally”,“Ph:1234567890”],\n",
    "<br></br>\n",
    "   “office”:[“Maharashtra”,“Mumbai”,“Ghatkopar”,“Ph : 5432167809”,“Pin :400043”],\n",
    "<br></br>\n",
    "   “OOI” : [“Singapore”,“Ph : 09876345”]}\n",
    "<br></br>\n",
    "   Write a program to extract phone numbers for each location\n",
    "</li>\n",
    "<br></br>\n",
    "<li>Write a Python function to find the greatest common divisor (gcd) of two integers.</li>\n",
    "<br></br>\n",
    "<li>Write a function which takes input n and q and returns sum of qth powers of first n natural numbers</li>\n",
    "<br></br>\n",
    "<li>Find out all numbers between 1 to 100 which are divisible by either 3 or 5 but not by both.[Hint : use sets]</li>\n",
    "<br></br>\n",
    "<li>Write a function which takes input n and produces first n elements of a fibonacci series</li>\n",
    "\n",
    "</ol>\n"
   ]
  },
  {
   "cell_type": "markdown",
   "metadata": {},
   "source": [
    "Prepared by: Riya Agrawal and Lalit Sachan"
   ]
  }
 ],
 "metadata": {
  "anaconda-cloud": {},
  "kernelspec": {
   "display_name": "Python 3",
   "language": "python",
   "name": "python3"
  },
  "language_info": {
   "codemirror_mode": {
    "name": "ipython",
    "version": 3
   },
   "file_extension": ".py",
   "mimetype": "text/x-python",
   "name": "python",
   "nbconvert_exporter": "python",
   "pygments_lexer": "ipython3",
   "version": "3.5.2"
  }
 },
 "nbformat": 4,
 "nbformat_minor": 0
}
