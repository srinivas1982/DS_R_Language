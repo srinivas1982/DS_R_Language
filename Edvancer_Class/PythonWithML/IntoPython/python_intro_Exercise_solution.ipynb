{
 "cells": [
  {
   "cell_type": "markdown",
   "metadata": {},
   "source": [
    "1: Experiment with multiplying strings or lists with integers and see what happens. Having seen that ;create a variable    which holds value ‘xyzxyzxyzxyzxyzxyzxyzxyzxyzxyz’\n",
    "   "
   ]
  },
  {
   "cell_type": "code",
   "execution_count": 2,
   "metadata": {
    "collapsed": false
   },
   "outputs": [
    {
     "data": {
      "text/plain": [
       "'xyzxyzxyzxyzxyzxyzxyzxyzxyzxyz'"
      ]
     },
     "execution_count": 2,
     "metadata": {},
     "output_type": "execute_result"
    }
   ],
   "source": [
    "x=\"xyz\" *10\n",
    "x\n"
   ]
  },
  {
   "cell_type": "markdown",
   "metadata": {},
   "source": [
    " 2: Using list comprehension ,list related functions or otherwise, create following list:\n",
    "\n",
    "   [[1, 2, 3, 4, 5, 6, 7], [1, 4, 9, 16, 25, 36, 49], [1, 8, 27, 64, 125, 216,343]]\n"
   ]
  },
  {
   "cell_type": "code",
   "execution_count": 3,
   "metadata": {
    "collapsed": false
   },
   "outputs": [
    {
     "data": {
      "text/plain": [
       "[[1, 2, 3, 4, 5, 6, 7],\n",
       " [1, 4, 9, 16, 25, 36, 49],\n",
       " [1, 8, 27, 64, 125, 216, 343]]"
      ]
     },
     "execution_count": 3,
     "metadata": {},
     "output_type": "execute_result"
    }
   ],
   "source": [
    "x=[]\n",
    "for j in [1,2,3]:\n",
    "    x.append([(i+1)**j for i in (range(7))])\n",
    "x\n"
   ]
  },
  {
   "cell_type": "markdown",
   "metadata": {},
   "source": [
    "3: Write a function which takes input as list and returns a list which contains a sequence of 10 equally spaced numbers between min and max of the string if minimum and maximum value of lists is same then it returns a list with 10 zeroes.\n",
    "    \n",
    "   example:\n",
    "   \n",
    "   input list : [20, 2, 6, 7, 10]\n",
    "   \n",
    "   output list : [2,4,6,8,10,12,14,16,18,20]"
   ]
  },
  {
   "cell_type": "code",
   "execution_count": 4,
   "metadata": {
    "collapsed": true
   },
   "outputs": [],
   "source": [
    "input_list=[20, 2, 6, 7, 10]\n",
    "mn=min(input_list)\n",
    "mx=max(input_list)"
   ]
  },
  {
   "cell_type": "code",
   "execution_count": 5,
   "metadata": {
    "collapsed": false
   },
   "outputs": [
    {
     "data": {
      "text/plain": [
       "[-5, -2.22, 0.56, 3.33, 6.11, 8.89, 11.67, 14.44, 17.22, 20.0]"
      ]
     },
     "execution_count": 5,
     "metadata": {},
     "output_type": "execute_result"
    }
   ],
   "source": [
    "input_list=[20,2,1,4,5,-5]\n",
    "\n",
    "def my_func1(ml):\n",
    "    mn=min(input_list)\n",
    "    mx=max(input_list)\n",
    "    new_list=[mn]\n",
    "    if(mn==mx):\n",
    "            dummy_list=[0]*10\n",
    "            return(dummy_list)\n",
    "\n",
    "    else:\n",
    "            s=(mx-mn)/9\n",
    "            x=mn\n",
    "            while(x<mx):\n",
    "                x=x+s\n",
    "                new_list.append(round(x,2))\n",
    "    return(new_list)\n",
    "my_func1(input_list)\n"
   ]
  },
  {
   "cell_type": "markdown",
   "metadata": {},
   "source": [
    "4: Show by example how to sort a dictionary by its values"
   ]
  },
  {
   "cell_type": "code",
   "execution_count": 6,
   "metadata": {
    "collapsed": false
   },
   "outputs": [
    {
     "name": "stdout",
     "output_type": "stream",
     "text": [
      "[('actor', 'nasir'), ('animal', 'dog'), ('earth', 1), ('list', [1, 2, 3])]\n"
     ]
    }
   ],
   "source": [
    "import operator\n",
    "d= {\"actor\":\"nasir\",\"animal\":\"dog\",\"earth\":1,\"list\":[1,2,3]}\n",
    "sorted_d_bykey = sorted(d.items(), key=operator.itemgetter(0))#sorting by key\n",
    "print(sorted_d_bykey)\n",
    "\n"
   ]
  },
  {
   "cell_type": "code",
   "execution_count": 7,
   "metadata": {
    "collapsed": false
   },
   "outputs": [
    {
     "ename": "TypeError",
     "evalue": "unorderable types: int() < str()",
     "output_type": "error",
     "traceback": [
      "\u001b[0;31m---------------------------------------------------------------------------\u001b[0m",
      "\u001b[0;31mTypeError\u001b[0m                                 Traceback (most recent call last)",
      "\u001b[0;32m<ipython-input-7-632d12c342f8>\u001b[0m in \u001b[0;36m<module>\u001b[0;34m()\u001b[0m\n\u001b[1;32m      1\u001b[0m \u001b[0;32mimport\u001b[0m \u001b[0moperator\u001b[0m\u001b[0;34m\u001b[0m\u001b[0m\n\u001b[1;32m      2\u001b[0m \u001b[0md\u001b[0m\u001b[0;34m=\u001b[0m \u001b[0;34m{\u001b[0m\u001b[0;34m\"actor\"\u001b[0m\u001b[0;34m:\u001b[0m\u001b[0;34m\"nasir\"\u001b[0m\u001b[0;34m,\u001b[0m\u001b[0;34m\"animal\"\u001b[0m\u001b[0;34m:\u001b[0m\u001b[0;34m\"dog\"\u001b[0m\u001b[0;34m,\u001b[0m\u001b[0;34m\"earth\"\u001b[0m\u001b[0;34m:\u001b[0m\u001b[0;36m1\u001b[0m\u001b[0;34m,\u001b[0m\u001b[0;34m\"list\"\u001b[0m\u001b[0;34m:\u001b[0m\u001b[0;34m[\u001b[0m\u001b[0;36m1\u001b[0m\u001b[0;34m,\u001b[0m\u001b[0;36m2\u001b[0m\u001b[0;34m,\u001b[0m\u001b[0;36m3\u001b[0m\u001b[0;34m]\u001b[0m\u001b[0;34m}\u001b[0m\u001b[0;34m\u001b[0m\u001b[0m\n\u001b[0;32m----> 3\u001b[0;31m \u001b[0msorted_d_byvalues\u001b[0m \u001b[0;34m=\u001b[0m \u001b[0msorted\u001b[0m\u001b[0;34m(\u001b[0m\u001b[0md\u001b[0m\u001b[0;34m.\u001b[0m\u001b[0mitems\u001b[0m\u001b[0;34m(\u001b[0m\u001b[0;34m)\u001b[0m\u001b[0;34m,\u001b[0m \u001b[0mkey\u001b[0m\u001b[0;34m=\u001b[0m\u001b[0moperator\u001b[0m\u001b[0;34m.\u001b[0m\u001b[0mitemgetter\u001b[0m\u001b[0;34m(\u001b[0m\u001b[0;36m1\u001b[0m\u001b[0;34m)\u001b[0m\u001b[0;34m)\u001b[0m\u001b[0;31m#sorting by value\u001b[0m\u001b[0;34m\u001b[0m\u001b[0m\n\u001b[0m\u001b[1;32m      4\u001b[0m \u001b[0mprint\u001b[0m\u001b[0;34m(\u001b[0m\u001b[0msorted_d_byvalues\u001b[0m\u001b[0;34m)\u001b[0m\u001b[0;34m\u001b[0m\u001b[0m\n",
      "\u001b[0;31mTypeError\u001b[0m: unorderable types: int() < str()"
     ]
    }
   ],
   "source": [
    "import operator\n",
    "d= {\"actor\":\"nasir\",\"animal\":\"dog\",\"earth\":1,\"list\":[1,2,3]}\n",
    "sorted_d_byvalues = sorted(d.items(), key=operator.itemgetter(1))#sorting by value\n",
    "print(sorted_d_byvalues)"
   ]
  },
  {
   "cell_type": "markdown",
   "metadata": {},
   "source": [
    "Mixed data type in dictionary cannot be sorted.\n",
    "Lets see for the list."
   ]
  },
  {
   "cell_type": "code",
   "execution_count": 8,
   "metadata": {
    "collapsed": false
   },
   "outputs": [
    {
     "ename": "TypeError",
     "evalue": "unorderable types: int() < str()",
     "output_type": "error",
     "traceback": [
      "\u001b[0;31m---------------------------------------------------------------------------\u001b[0m",
      "\u001b[0;31mTypeError\u001b[0m                                 Traceback (most recent call last)",
      "\u001b[0;32m<ipython-input-8-2c1611480b2e>\u001b[0m in \u001b[0;36m<module>\u001b[0;34m()\u001b[0m\n\u001b[1;32m      1\u001b[0m \u001b[0ml\u001b[0m\u001b[0;34m=\u001b[0m \u001b[0;34m[\u001b[0m\u001b[0;34m'nasir'\u001b[0m\u001b[0;34m,\u001b[0m\u001b[0;34m'dog'\u001b[0m\u001b[0;34m,\u001b[0m\u001b[0;36m1\u001b[0m\u001b[0;34m,\u001b[0m\u001b[0;34m[\u001b[0m\u001b[0;36m1\u001b[0m\u001b[0;34m,\u001b[0m\u001b[0;36m2\u001b[0m\u001b[0;34m,\u001b[0m\u001b[0;36m3\u001b[0m\u001b[0;34m]\u001b[0m\u001b[0;34m]\u001b[0m\u001b[0;34m\u001b[0m\u001b[0m\n\u001b[0;32m----> 2\u001b[0;31m \u001b[0ml\u001b[0m\u001b[0;34m.\u001b[0m\u001b[0msort\u001b[0m\u001b[0;34m(\u001b[0m\u001b[0;34m)\u001b[0m\u001b[0;34m\u001b[0m\u001b[0m\n\u001b[0m\u001b[1;32m      3\u001b[0m \u001b[0mprint\u001b[0m\u001b[0;34m(\u001b[0m\u001b[0ml\u001b[0m\u001b[0;34m)\u001b[0m\u001b[0;34m\u001b[0m\u001b[0m\n\u001b[1;32m      4\u001b[0m \u001b[0;34m\u001b[0m\u001b[0m\n",
      "\u001b[0;31mTypeError\u001b[0m: unorderable types: int() < str()"
     ]
    }
   ],
   "source": [
    "l= ['nasir','dog',1,[1,2,3]]\n",
    "l.sort()\n",
    "print(l)\n",
    "\n"
   ]
  },
  {
   "cell_type": "markdown",
   "metadata": {},
   "source": [
    "Mixed data type list cannot be sorted. Now consider a dictionary of same data type."
   ]
  },
  {
   "cell_type": "code",
   "execution_count": 9,
   "metadata": {
    "collapsed": false
   },
   "outputs": [
    {
     "name": "stdout",
     "output_type": "stream",
     "text": [
      "[('animal', 'dog'), ('earth', 'life'), ('actor', 'nasir'), ('list', 'not available')]\n"
     ]
    }
   ],
   "source": [
    "import operator\n",
    "d= {\"actor\":\"nasir\",\"animal\":\"dog\",\"earth\":\"life\",\"list\":\"not available\"}\n",
    "sorted_d_byvalues = sorted(d.items(), key=operator.itemgetter(1))\n",
    "print(sorted_d_byvalues)"
   ]
  },
  {
   "cell_type": "markdown",
   "metadata": {},
   "source": [
    "5: Write a function which takes input 3 dictionaries and returns a new dictionary \n",
    "\n",
    "   which has all key value pairs from those three dictionaries"
   ]
  },
  {
   "cell_type": "code",
   "execution_count": 10,
   "metadata": {
    "collapsed": false
   },
   "outputs": [
    {
     "ename": "TypeError",
     "evalue": "unsupported operand type(s) for +: 'dict' and 'dict'",
     "output_type": "error",
     "traceback": [
      "\u001b[0;31m---------------------------------------------------------------------------\u001b[0m",
      "\u001b[0;31mTypeError\u001b[0m                                 Traceback (most recent call last)",
      "\u001b[0;32m<ipython-input-10-9a3ea2334071>\u001b[0m in \u001b[0;36m<module>\u001b[0;34m()\u001b[0m\n\u001b[1;32m      1\u001b[0m \u001b[0ma\u001b[0m\u001b[0;34m=\u001b[0m\u001b[0;34m{\u001b[0m\u001b[0;34m\"qw\"\u001b[0m\u001b[0;34m:\u001b[0m\u001b[0;36m2\u001b[0m\u001b[0;34m}\u001b[0m\u001b[0;34m\u001b[0m\u001b[0m\n\u001b[1;32m      2\u001b[0m \u001b[0mb\u001b[0m\u001b[0;34m=\u001b[0m\u001b[0;34m{\u001b[0m\u001b[0;34m\"gf\"\u001b[0m\u001b[0;34m:\u001b[0m\u001b[0;36m45\u001b[0m\u001b[0;34m}\u001b[0m\u001b[0;34m\u001b[0m\u001b[0m\n\u001b[0;32m----> 3\u001b[0;31m \u001b[0mc\u001b[0m\u001b[0;34m=\u001b[0m\u001b[0ma\u001b[0m\u001b[0;34m+\u001b[0m\u001b[0mb\u001b[0m\u001b[0;34m\u001b[0m\u001b[0m\n\u001b[0m",
      "\u001b[0;31mTypeError\u001b[0m: unsupported operand type(s) for +: 'dict' and 'dict'"
     ]
    }
   ],
   "source": [
    "a={\"qw\":2}\n",
    "b={\"gf\":45}\n",
    "c=a+b"
   ]
  },
  {
   "cell_type": "code",
   "execution_count": 11,
   "metadata": {
    "collapsed": false
   },
   "outputs": [
    {
     "name": "stdout",
     "output_type": "stream",
     "text": [
      "{1: 'one', 2: 'two', 'Country': 'Capital', 'Bangladesh': 'dhaka', 'float': 1.666667, 'Malaysia': 'Kuala Lumpur', 'india': 'last', 'South Africa': 'Cape Town', 'Pakistan': 'Islamabad'}\n"
     ]
    }
   ],
   "source": [
    "d_1={'india':'New delhi','Bangladesh':'dhaka','Pakistan':'Islamabad'}\n",
    "d_2={'Malaysia':'Kuala Lumpur','india':34,'South Africa':'Cape Town','Country':'Capital'}\n",
    "d_3={1:'one',2:'two','float':1.666667,'india':\"last\"}\n",
    "new_d={**d_1,**d_2,**d_3}\n",
    "print(new_d) # ** operator is used to unpack dictionaries\n",
    "\n",
    "\n",
    "\n",
    " "
   ]
  },
  {
   "cell_type": "code",
   "execution_count": 12,
   "metadata": {
    "collapsed": false
   },
   "outputs": [
    {
     "data": {
      "text/plain": [
       "{'Bangladesh': 'dhaka',\n",
       " 'Country': 'Capital',\n",
       " 'Malaysia': 'Kuala Lumpur',\n",
       " 'Pakistan': 'Islamabad',\n",
       " 'South Africa': 'Cape Town',\n",
       " 'india': 34}"
      ]
     },
     "execution_count": 12,
     "metadata": {},
     "output_type": "execute_result"
    }
   ],
   "source": [
    "{**d_1,**d_2}"
   ]
  },
  {
   "cell_type": "markdown",
   "metadata": {},
   "source": [
    "we can also use update function to merge two or more dictionaries. "
   ]
  },
  {
   "cell_type": "code",
   "execution_count": 13,
   "metadata": {
    "collapsed": false,
    "scrolled": true
   },
   "outputs": [
    {
     "name": "stdout",
     "output_type": "stream",
     "text": [
      "{1: 'one', 2: 'two', 'Country': 'Capital', 'Bangladesh': 'dhaka', 'float': 1.666667, 'Malaysia': 'Kuala Lumpur', 'india': 'last', 'South Africa': 'Cape Town', 'Pakistan': 'Islamabad'}\n"
     ]
    }
   ],
   "source": [
    "x={}\n",
    "x.update(d_1)\n",
    "x.update(d_2)\n",
    "x.update(d_3)\n",
    "print(x) "
   ]
  },
  {
   "cell_type": "markdown",
   "metadata": {},
   "source": [
    "Although keep in mind ,if dictionaries have the same key, the key of the latter dictionary  will be taken into account.\n",
    "Lets see"
   ]
  },
  {
   "cell_type": "code",
   "execution_count": 14,
   "metadata": {
    "collapsed": false
   },
   "outputs": [
    {
     "name": "stdout",
     "output_type": "stream",
     "text": [
      "{'c': 4, 'a': 1, 'b': 3}\n"
     ]
    }
   ],
   "source": [
    "\n",
    "x = {'a': 1, 'b': 2}\n",
    "y = {'b': 3, 'c': 4} # here we have key 'b' both in x and y\n",
    "x.update(y)\n",
    "print(x)# precedence goes to key value pair in latter dictionary\n"
   ]
  },
  {
   "cell_type": "code",
   "execution_count": 15,
   "metadata": {
    "collapsed": false
   },
   "outputs": [
    {
     "name": "stdout",
     "output_type": "stream",
     "text": [
      "{'c': 4, 'india': 56, 'a': 1, 'b': 3}\n"
     ]
    }
   ],
   "source": [
    "#For undefined number of arguments\n",
    "def merge_dicts(*dict_args):\n",
    "    result = {}\n",
    "    for dictionary in dict_args:\n",
    "        result.update(dictionary)\n",
    "    return result\n",
    "\n",
    "x = {'a': 1, 'b': 2}\n",
    "y = {'b': 3, 'c': 4}\n",
    "z= {\"c\":4,'india':56}\n",
    "new_dict=merge_dicts(x,y,z)\n",
    "print(new_dict)\n"
   ]
  },
  {
   "cell_type": "markdown",
   "metadata": {},
   "source": [
    "6: Write a function which takes input a string and returns reversed string example\n",
    "\n",
    "   input : “string”\n",
    "   \n",
    "   output : “gnirts”\n",
    "    "
   ]
  },
  {
   "cell_type": "code",
   "execution_count": 16,
   "metadata": {
    "collapsed": false
   },
   "outputs": [
    {
     "data": {
      "text/plain": [
       "'gnirts'"
      ]
     },
     "execution_count": 16,
     "metadata": {},
     "output_type": "execute_result"
    }
   ],
   "source": [
    "x='string'\n",
    "x[::-1] #[begin:end:step]\n",
    "\n"
   ]
  },
  {
   "cell_type": "code",
   "execution_count": 17,
   "metadata": {
    "collapsed": false
   },
   "outputs": [
    {
     "data": {
      "text/plain": [
       "['g', 'n', 'i', 'r', 't', 's']"
      ]
     },
     "execution_count": 17,
     "metadata": {},
     "output_type": "execute_result"
    }
   ],
   "source": [
    "x='string'\n",
    "x=list(x)\n",
    "x.reverse()\n",
    "x"
   ]
  },
  {
   "cell_type": "code",
   "execution_count": 18,
   "metadata": {
    "collapsed": false
   },
   "outputs": [
    {
     "data": {
      "text/plain": [
       "'gnirts'"
      ]
     },
     "execution_count": 18,
     "metadata": {},
     "output_type": "execute_result"
    }
   ],
   "source": [
    "\"\".join(x)"
   ]
  },
  {
   "cell_type": "markdown",
   "metadata": {},
   "source": [
    "7: Consider this dictionary of addresses :\n",
    "\n",
    "   {“home” : [“Hyderabad”,“Lingampally”,“Ph:1234567890”],\n",
    "\n",
    "   “office”:[“Maharashtra”,“Mumbai”,“Ghatkopar”,“Ph : 5432167809”,“Pin :400043”],\n",
    "\n",
    "   “OOI” : [“Singapore”,“Ph : 09876345”]}\n",
    "\n",
    "   Write a program to extract phone numbers for each location"
   ]
  },
  {
   "cell_type": "markdown",
   "metadata": {},
   "source": [
    "*For this we use dictionary comprehension*"
   ]
  },
  {
   "cell_type": "code",
   "execution_count": 19,
   "metadata": {
    "collapsed": false
   },
   "outputs": [
    {
     "data": {
      "text/plain": [
       "dict_items([('home', ['Hyderabad', 'Lingampally', 'Ph:1234567890']), ('OOI', ['Singapore', 'Ph : 09876345']), ('office', ['Maharashtra', 'Mumbai', 'Ghatkopar', 'Ph : 5432167809', 'Pin :400043'])])"
      ]
     },
     "execution_count": 19,
     "metadata": {},
     "output_type": "execute_result"
    }
   ],
   "source": [
    "address={\"home\" : [\"Hyderabad\",\"Lingampally\",\"Ph:1234567890\"],\n",
    "\"office\":[\"Maharashtra\",\"Mumbai\",\"Ghatkopar\",\"Ph : 5432167809\",\"Pin :400043\"],\n",
    "\"OOI\" : [\"Singapore\",\"Ph : 09876345\"]}\n",
    "address.items()"
   ]
  },
  {
   "cell_type": "code",
   "execution_count": 21,
   "metadata": {
    "collapsed": false
   },
   "outputs": [
    {
     "data": {
      "text/plain": [
       "{'OOI': ['Ph : 09876345'],\n",
       " 'home': ['Ph:1234567890'],\n",
       " 'office': ['Ph : 5432167809']}"
      ]
     },
     "execution_count": 21,
     "metadata": {},
     "output_type": "execute_result"
    }
   ],
   "source": [
    "address={\"home\" : [\"Hyderabad\",\"Lingampally\",\"Ph:1234567890\"],\n",
    "\"office\":[\"Maharashtra\",\"Mumbai\",\"Ghatkopar\",\"Ph : 5432167809\",\"Pin :400043\"],\n",
    "\"OOI\" : [\"Singapore\",\"Ph : 09876345\"]}\n",
    "\n",
    "phones={}\n",
    "\n",
    "for k,v in address.items():\n",
    "    temp=[x for x in v if \"Ph\" in x]\n",
    "    phones[k]=temp\n",
    "\n",
    "phones\n",
    "\n"
   ]
  },
  {
   "cell_type": "markdown",
   "metadata": {},
   "source": [
    "8: Write a Python function to find the greatest common divisor (gcd) of two integers."
   ]
  },
  {
   "cell_type": "code",
   "execution_count": 22,
   "metadata": {
    "collapsed": false
   },
   "outputs": [
    {
     "data": {
      "text/plain": [
       "11"
      ]
     },
     "execution_count": 22,
     "metadata": {},
     "output_type": "execute_result"
    }
   ],
   "source": [
    "def my_gcd(x,y):\n",
    "    while(x%y !=0):\n",
    "        (x,y)=(y,x%y)\n",
    "    return(y)\n",
    "\n",
    "my_gcd(33,77)"
   ]
  },
  {
   "cell_type": "markdown",
   "metadata": {},
   "source": [
    "9: Write a function which takes input n and q and returns sum of qth powers of first n natural numbers\n"
   ]
  },
  {
   "cell_type": "code",
   "execution_count": 23,
   "metadata": {
    "collapsed": false
   },
   "outputs": [
    {
     "data": {
      "text/plain": [
       "55"
      ]
     },
     "execution_count": 23,
     "metadata": {},
     "output_type": "execute_result"
    }
   ],
   "source": [
    "def sum_n_power_q(n,q):\n",
    "    my_list=[i**q for i in range(n+1)]\n",
    "    sum_list=sum(my_list)\n",
    "    return(sum_list)\n",
    "\n",
    "sum_n_power_q(5,2)"
   ]
  },
  {
   "cell_type": "markdown",
   "metadata": {},
   "source": [
    "10:Find out all numbers between 1 to 100 which are divisible by either 3 or 5 but not by both.[Hint : use sets]"
   ]
  },
  {
   "cell_type": "code",
   "execution_count": 25,
   "metadata": {
    "collapsed": false
   },
   "outputs": [
    {
     "name": "stdout",
     "output_type": "stream",
     "text": [
      "{3, 6, 9, 12, 15, 18, 21, 24, 27, 30, 33, 36, 39, 42, 45, 48, 51, 54, 57, 60, 63, 66, 69, 72, 75, 78, 81, 84, 87, 90, 93, 96, 99}\n",
      "{65, 35, 5, 70, 40, 10, 75, 45, 15, 80, 50, 20, 85, 55, 25, 90, 60, 30, 95}\n"
     ]
    }
   ],
   "source": [
    "x=set([3*x for x in range(1,34)])\n",
    "print(x)\n",
    "y=set([5*x for x in range(1,20)])\n",
    "print(y)"
   ]
  },
  {
   "cell_type": "code",
   "execution_count": 27,
   "metadata": {
    "collapsed": false
   },
   "outputs": [
    {
     "name": "stdout",
     "output_type": "stream",
     "text": [
      "{3, 5, 6, 9, 10, 12, 18, 20, 21, 24, 25, 27, 33, 35, 36, 39, 40, 42, 48, 50, 51, 54, 55, 57, 63, 65, 66, 69, 70, 72, 78, 80, 81, 84, 85, 87, 93, 95, 96, 99}\n"
     ]
    }
   ],
   "source": [
    "print(x.symmetric_difference(y))"
   ]
  },
  {
   "cell_type": "markdown",
   "metadata": {},
   "source": [
    "11:"
   ]
  },
  {
   "cell_type": "code",
   "execution_count": 28,
   "metadata": {
    "collapsed": false
   },
   "outputs": [
    {
     "data": {
      "text/plain": [
       "[1, 1, 2, 3, 5, 8, 13, 21, 34, 55]"
      ]
     },
     "execution_count": 28,
     "metadata": {},
     "output_type": "execute_result"
    }
   ],
   "source": [
    "def fb(n):\n",
    "    if(n==2):\n",
    "        return([1,1])\n",
    "    else:\n",
    "        k=fb(n-1)\n",
    "        series=k+[k[n-2]+k[n-3]]\n",
    "        return(series)\n",
    "    \n",
    "fb(10)"
   ]
  },
  {
   "cell_type": "markdown",
   "metadata": {},
   "source": [
    "Prepared by: Riya Agrawal and Lalit Sachan"
   ]
  }
 ],
 "metadata": {
  "anaconda-cloud": {},
  "kernelspec": {
   "display_name": "Python 3",
   "language": "python",
   "name": "python3"
  },
  "language_info": {
   "codemirror_mode": {
    "name": "ipython",
    "version": 3
   },
   "file_extension": ".py",
   "mimetype": "text/x-python",
   "name": "python",
   "nbconvert_exporter": "python",
   "pygments_lexer": "ipython3",
   "version": "3.5.2"
  }
 },
 "nbformat": 4,
 "nbformat_minor": 0
}
