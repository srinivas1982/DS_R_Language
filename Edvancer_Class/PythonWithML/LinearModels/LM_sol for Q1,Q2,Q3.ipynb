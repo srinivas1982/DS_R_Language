{
 "cells": [
  {
   "cell_type": "code",
   "execution_count": 1,
   "metadata": {
    "collapsed": false
   },
   "outputs": [],
   "source": [
    "import pandas as pd\n",
    "import math\n",
    "import numpy as np\n",
    "from sklearn.linear_model import LogisticRegression\n",
    "from sklearn.metrics import roc_auc_score\n",
    "from sklearn.cross_validation import train_test_split,KFold\n",
    "from sklearn.linear_model import LinearRegression, Lasso, Ridge"
   ]
  },
  {
   "cell_type": "markdown",
   "metadata": {},
   "source": [
    "### Data Prep for Q1,Q2,Q3"
   ]
  },
  {
   "cell_type": "code",
   "execution_count": 2,
   "metadata": {
    "collapsed": true
   },
   "outputs": [],
   "source": [
    "data_file='C:/Users/Riya/Dropbox/March onwards/Python Data Science/Data/Existing Base.csv'\n",
    "bd=pd.read_csv(data_file)\n",
    "\n",
    "bd.loc[bd[\"children\"]==\"Zero\",\"children\"]=\"0\"\n",
    "bd.loc[bd[\"children\"]==\"4+\",\"children\"]=\"4\"\n",
    "bd[\"children\"]=pd.to_numeric(bd[\"children\"],errors=\"coerce\")\n",
    "\n",
    "\n",
    "bd[\"y\"]=np.where(bd[\"Revenue Grid\"]==2,0,1)\n",
    "bd=bd.drop([\"Revenue Grid\"],1)\n",
    "\n",
    "\n",
    "for i in range(len(bd)):\n",
    "    if bd[\"age_band\"][i] in [\"71+\",\"65-70\",\"51-55\",\"45-50\"]:\n",
    "        bd.loc[i,\"age_band\"]=\"ab_10\"\n",
    "    if bd[\"age_band\"][i] in [\"55-60\",\"41-45\",\"31-35\",\"22-25\",\"26-30\"]:\n",
    "        bd.loc[i,\"age_band\"]=\"ab_11\"\n",
    "    if bd[\"age_band\"][i]==\"36-40\":\n",
    "        bd.loc[i,\"age_band\"]=\"ab_13\"\n",
    "    if bd[\"age_band\"][i]==\"18-21\":\n",
    "        bd.loc[i,\"age_band\"]=\"ab_17\"\n",
    "    if bd[\"age_band\"][i]==\"61-65\":\n",
    "        bd.loc[i,\"age_band\"]=\"ab_9\"\n",
    "ab_dummies=pd.get_dummies(bd[\"age_band\"])\n",
    "\n",
    "bd=pd.concat([bd,ab_dummies],1)\n",
    "bd=bd.drop([\"age_band\",\"Unknown\"],1)\n",
    "\n",
    "\n",
    "bd[\"st_partner\"]=np.where(bd[\"status\"]==\"Partner\",1,0)\n",
    "bd[\"st_singleNm\"]=np.where(bd[\"status\"]==\"Single/Never Married\",1,0)\n",
    "bd[\"st_divSep\"]=np.where(bd[\"status\"]==\"Divorced/Separated\",1,0)\n",
    "bd=bd.drop([\"status\"],1)\n",
    "\n",
    "\n",
    "for i in range(len(bd)):\n",
    "    if bd[\"occupation\"][i] in [\"Unknown\",\"Student\",\"Secretarial/Admin\",\"Other\",\"Manual Worker\"]:\n",
    "        bd.loc[i,\"occupation\"]=\"oc_11\"\n",
    "    if bd[\"occupation\"][i] in [\"Professional\",\"Business Manager\"]:\n",
    "        bd.loc[i,\"occupation\"]=\"oc_12\"\n",
    "    if bd[\"occupation\"][i]==\"Retired\":\n",
    "        bd.loc[i,\"occupation\"]=\"oc_10\"\n",
    "oc_dummies=pd.get_dummies(bd[\"occupation\"])\n",
    "\n",
    "bd=pd.concat([bd,oc_dummies],1)\n",
    "\n",
    "bd=bd.drop([\"occupation\",\"Housewife\"],1)\n",
    "\n",
    "bd[\"ocp_10\"]=0\n",
    "bd[\"ocp_12\"]=0\n",
    "for i in range(len(bd)):\n",
    "    if bd[\"occupation_partner\"][i] in [\"Unknown\",\"Retired\",\"Other\"]:\n",
    "        bd.loc[i,\"ocp_10\"]=1\n",
    "    if bd[\"occupation_partner\"][i] in [\"Student\",\"Secretarial/Admin\"]:\n",
    "        bd.loc[i,\"ocp_12\"]=1\n",
    "        \n",
    "bd=bd.drop([\"occupation_partner\"],1)\n",
    "\n",
    "\n",
    "bd.drop([\"post_area\",\"post_code\"],axis=1,inplace=True)\n",
    "\n",
    "\n",
    "for i in range(len(bd)):\n",
    "    if bd[\"TVarea\"][i] in [\"Meridian\",\"TV South West\",\"Tyne Tees\"]:\n",
    "        bd.loc[i,\"TVarea\"]=\"TV_9\"\n",
    "    if bd[\"TVarea\"][i] in [\"Grampian\",\"HTV\"]:\n",
    "        bd.loc[i,\"TVarea\"]=\"TV_10\"\n",
    "    if bd[\"TVarea\"][i] in [\"Anglia\",\"Carlton\",\"Central\",\"Scottish TV\"]:\n",
    "        bd.loc[i,\"TVarea\"]=\"TV_11\"\n",
    "    if bd[\"TVarea\"][i] in [\"Ulster\",\"Unknown\",\"Yorkshire\",\"Granada\"]:\n",
    "        bd.loc[i,\"TVarea\"]=\"TV_12\"\n",
    "bd_dummies=pd.get_dummies(bd[\"TVarea\"])\n",
    "\n",
    "\n",
    "bd=pd.concat([bd,oc_dummies],axis=1)\n",
    "bd.drop([\"TVarea\",\"Border\"],axis=1,inplace=True)\n",
    "\n",
    "bd.drop(['region'],axis=1,inplace=True)\n",
    "\n",
    "\n",
    "bd[\"hs_own\"]=np.where(bd[\"home_status\"]==\"Own Home\",1,0)\n",
    "del bd[\"home_status\"]\n",
    "\n",
    "\n",
    "bd[\"gender_f\"]=np.where(bd[\"gender\"]==\"Female\",1,0)\n",
    "del bd[\"gender\"]\n",
    "\n",
    "bd[\"semp_yes\"]=np.where(bd[\"self_employed\"]==\"Yes\",1,0)\n",
    "del bd[\"self_employed\"]\n",
    "\n",
    "\n",
    "bd[\"semp_part_yes\"]=np.where(bd[\"self_employed_partner\"]==\"Yes\",1,0)\n",
    "del bd[\"self_employed_partner\"]\n",
    "\n",
    "\n",
    "\n",
    "bd[\"fi\"]=4 \n",
    "bd.loc[bd[\"family_income\"]==\"< 8,000, >= 4,000\",\"fi\"]=6\n",
    "bd.loc[bd[\"family_income\"]==\"<10,000, >= 8,000\",\"fi\"]=9\n",
    "bd.loc[bd[\"family_income\"]==\"<12,500, >=10,000\",\"fi\"]=11.25\n",
    "bd.loc[bd[\"family_income\"]==\"<15,000, >=12,500\",\"fi\"]=13.75\n",
    "bd.loc[bd[\"family_income\"]==\"<17,500, >=15,000\",\"fi\"]=16.25\n",
    "bd.loc[bd[\"family_income\"]==\"<20,000, >=17,500\",\"fi\"]=18.75\n",
    "bd.loc[bd[\"family_income\"]==\"<22,500, >=20,000\",\"fi\"]=21.25\n",
    "bd.loc[bd[\"family_income\"]==\"<25,000, >=22,500\",\"fi\"]=23.75\n",
    "bd.loc[bd[\"family_income\"]==\"<27,500, >=25,000\",\"fi\"]=26.25\n",
    "bd.loc[bd[\"family_income\"]==\"<30,000, >=27,500\",\"fi\"]=28.75\n",
    "bd.loc[bd[\"family_income\"]==\">=35,000\",\"fi\"]=35\n",
    "bd=bd.drop([\"family_income\"],1)\n",
    "\n",
    "\n",
    "\n",
    "bd.drop(['Tvarea'],1,inplace=True)\n"
   ]
  },
  {
   "cell_type": "code",
   "execution_count": 3,
   "metadata": {
    "collapsed": true
   },
   "outputs": [],
   "source": [
    "bd.dropna(axis=0,inplace=True)\n",
    "bd_train, bd_test = train_test_split(bd, test_size = 0.2,random_state=2)\n",
    "\n",
    "x_train=bd_train.drop([\"y\",\"REF_NO\"],1)\n",
    "y_train=bd_train[\"y\"]\n",
    "\n",
    "x_test=bd_test.drop([\"y\",\"REF_NO\"],1)\n",
    "y_test=bd_test[\"y\"]\n",
    "\n",
    "x_train.index=[x for x in range(len(x_train))]\n",
    "y_train.index=[x for x in range(len(x_train))]\n"
   ]
  },
  {
   "cell_type": "markdown",
   "metadata": {},
   "source": [
    "## Question1\n",
    "\n",
    "Build logistic regression model with l1 penalty and best value of penalty C. Find out auc score on test data for the same."
   ]
  },
  {
   "cell_type": "code",
   "execution_count": 6,
   "metadata": {
    "collapsed": false
   },
   "outputs": [
    {
     "name": "stdout",
     "output_type": "stream",
     "text": [
      "Value of C with max AUC score: 0.906841576244  for 10 fold CV is : 1.0\n"
     ]
    }
   ],
   "source": [
    "#finding out the best parameter for logistic using l1 penalty\n",
    "C_param =[0.0001,0.0002,0.0005,0.001,0.005,0.01,0.05, 0.1,0.5, 1, 10, 100,500,1000] \n",
    "auc_10cv=[]\n",
    "for c in C_param:\n",
    "    logr=LogisticRegression(C=c,penalty=\"l1\",class_weight=\"balanced\",random_state=2)\n",
    "    kf = KFold(len(x_train), n_folds=10)\n",
    "    score_c=0\n",
    "    for train, test in kf:\n",
    "        logr.fit(x_train.loc[train], y_train[train])\n",
    "        score_c+=roc_auc_score(y_train,logr.predict(x_train))\n",
    "    auc_10cv.append(score_c/10)\n",
    "    print('{:.3f}\\t {:.5f}\\t '.format(c,score_c/10))\n",
    "C_param=np.array(C_param)\n",
    "auc_10cv=np.array(auc_10cv)\n",
    "best_c=C_param[auc_10cv==max(auc_10cv)][0]\n",
    "print('Value of C with max AUC score:',max(auc_10cv),' for 10 fold CV is :',best_c )"
   ]
  },
  {
   "cell_type": "code",
   "execution_count": 7,
   "metadata": {
    "collapsed": false
   },
   "outputs": [],
   "source": [
    "logr=LogisticRegression(C=best_c,penalty=\"l1\",class_weight=\"balanced\",random_state=2)"
   ]
  },
  {
   "cell_type": "code",
   "execution_count": 8,
   "metadata": {
    "collapsed": false
   },
   "outputs": [
    {
     "data": {
      "text/plain": [
       "LogisticRegression(C=1.0, class_weight='balanced', dual=False,\n",
       "          fit_intercept=True, intercept_scaling=1, max_iter=100,\n",
       "          multi_class='ovr', n_jobs=1, penalty='l1', random_state=2,\n",
       "          solver='liblinear', tol=0.0001, verbose=0, warm_start=False)"
      ]
     },
     "execution_count": 8,
     "metadata": {},
     "output_type": "execute_result"
    }
   ],
   "source": [
    "logr.fit(x_train,y_train)"
   ]
  },
  {
   "cell_type": "code",
   "execution_count": 9,
   "metadata": {
    "collapsed": false
   },
   "outputs": [
    {
     "data": {
      "text/plain": [
       "0.89959186496956278"
      ]
     },
     "execution_count": 9,
     "metadata": {},
     "output_type": "execute_result"
    }
   ],
   "source": [
    "roc_auc_score(y_test,logr.predict(x_test))"
   ]
  },
  {
   "cell_type": "markdown",
   "metadata": {},
   "source": [
    "## Question 2. \n",
    "\n",
    "For l1 penalty plot a graph showing how number of variables with coefficient 0 increase with decreasing\n",
    "C parameter and on the same graph also show how auc score on test data decreases with decreasing C parameter."
   ]
  },
  {
   "cell_type": "code",
   "execution_count": 10,
   "metadata": {
    "collapsed": false
   },
   "outputs": [
    {
     "data": {
      "text/html": [
       "<div>\n",
       "<table border=\"1\" class=\"dataframe\">\n",
       "  <thead>\n",
       "    <tr style=\"text-align: right;\">\n",
       "      <th></th>\n",
       "      <th>C_param</th>\n",
       "      <th>variables_with_coef_zero</th>\n",
       "      <th>auc_score</th>\n",
       "    </tr>\n",
       "  </thead>\n",
       "  <tbody>\n",
       "    <tr>\n",
       "      <th>0</th>\n",
       "      <td>0.0001</td>\n",
       "      <td>31</td>\n",
       "      <td>0.842165</td>\n",
       "    </tr>\n",
       "    <tr>\n",
       "      <th>1</th>\n",
       "      <td>0.0002</td>\n",
       "      <td>29</td>\n",
       "      <td>0.868379</td>\n",
       "    </tr>\n",
       "    <tr>\n",
       "      <th>2</th>\n",
       "      <td>0.0005</td>\n",
       "      <td>28</td>\n",
       "      <td>0.882030</td>\n",
       "    </tr>\n",
       "    <tr>\n",
       "      <th>3</th>\n",
       "      <td>0.0010</td>\n",
       "      <td>27</td>\n",
       "      <td>0.890959</td>\n",
       "    </tr>\n",
       "    <tr>\n",
       "      <th>4</th>\n",
       "      <td>0.0050</td>\n",
       "      <td>25</td>\n",
       "      <td>0.894316</td>\n",
       "    </tr>\n",
       "    <tr>\n",
       "      <th>5</th>\n",
       "      <td>0.0100</td>\n",
       "      <td>25</td>\n",
       "      <td>0.894316</td>\n",
       "    </tr>\n",
       "    <tr>\n",
       "      <th>6</th>\n",
       "      <td>0.0500</td>\n",
       "      <td>19</td>\n",
       "      <td>0.892361</td>\n",
       "    </tr>\n",
       "    <tr>\n",
       "      <th>7</th>\n",
       "      <td>0.1000</td>\n",
       "      <td>17</td>\n",
       "      <td>0.893744</td>\n",
       "    </tr>\n",
       "    <tr>\n",
       "      <th>8</th>\n",
       "      <td>0.5000</td>\n",
       "      <td>6</td>\n",
       "      <td>0.897083</td>\n",
       "    </tr>\n",
       "    <tr>\n",
       "      <th>9</th>\n",
       "      <td>1.0000</td>\n",
       "      <td>5</td>\n",
       "      <td>0.899592</td>\n",
       "    </tr>\n",
       "    <tr>\n",
       "      <th>10</th>\n",
       "      <td>10.0000</td>\n",
       "      <td>2</td>\n",
       "      <td>0.898762</td>\n",
       "    </tr>\n",
       "    <tr>\n",
       "      <th>11</th>\n",
       "      <td>100.0000</td>\n",
       "      <td>0</td>\n",
       "      <td>0.898762</td>\n",
       "    </tr>\n",
       "    <tr>\n",
       "      <th>12</th>\n",
       "      <td>500.0000</td>\n",
       "      <td>0</td>\n",
       "      <td>0.898762</td>\n",
       "    </tr>\n",
       "    <tr>\n",
       "      <th>13</th>\n",
       "      <td>1000.0000</td>\n",
       "      <td>0</td>\n",
       "      <td>0.898762</td>\n",
       "    </tr>\n",
       "  </tbody>\n",
       "</table>\n",
       "</div>"
      ],
      "text/plain": [
       "      C_param  variables_with_coef_zero  auc_score\n",
       "0      0.0001                        31   0.842165\n",
       "1      0.0002                        29   0.868379\n",
       "2      0.0005                        28   0.882030\n",
       "3      0.0010                        27   0.890959\n",
       "4      0.0050                        25   0.894316\n",
       "5      0.0100                        25   0.894316\n",
       "6      0.0500                        19   0.892361\n",
       "7      0.1000                        17   0.893744\n",
       "8      0.5000                         6   0.897083\n",
       "9      1.0000                         5   0.899592\n",
       "10    10.0000                         2   0.898762\n",
       "11   100.0000                         0   0.898762\n",
       "12   500.0000                         0   0.898762\n",
       "13  1000.0000                         0   0.898762"
      ]
     },
     "execution_count": 10,
     "metadata": {},
     "output_type": "execute_result"
    }
   ],
   "source": [
    "coef_zero=[]\n",
    "a_score=[]\n",
    "C_param=[0.0001,0.0002,0.0005,0.001,0.005,0.01,0.05, 0.1,0.5, 1, 10, 100,500,1000] \n",
    "for c in C_param:\n",
    "    logr=LogisticRegression(C=c,penalty=\"l1\",class_weight=\"balanced\",random_state=2)\n",
    "    logr.fit(x_train,y_train)\n",
    "    coef=logr.coef_\n",
    "    var_zero=(coef==0).sum()\n",
    "    coef_zero.append(var_zero)\n",
    "    score=roc_auc_score(y_test,logr.predict(x_test))\n",
    "    a_score.append(score)\n",
    "    \n",
    "    \n",
    "validation=pd.DataFrame(list(zip(np.log(C_param),coef_zero,a_score)),\n",
    "                        columns=[\"C_param\",\"variables_with_coef_zero\",\"auc_score\"])\n",
    "\n"
   ]
  },
  {
   "cell_type": "markdown",
   "metadata": {},
   "source": [
    "Log of c parameter is taken so as down the scale. "
   ]
  },
  {
   "cell_type": "code",
   "execution_count": 14,
   "metadata": {
    "collapsed": true
   },
   "outputs": [],
   "source": [
    "from ggplot import *\n",
    "%matplotlib inline"
   ]
  },
  {
   "cell_type": "code",
   "execution_count": 25,
   "metadata": {
    "collapsed": false
   },
   "outputs": [
    {
     "name": "stderr",
     "output_type": "stream",
     "text": [
      "C:\\Users\\Riya\\AppData\\Local\\Continuum\\Anaconda3\\lib\\site-packages\\ggplot\\stats\\stat_smooth.py:77: FutureWarning: sort(columns=....) is deprecated, use sort_values(by=.....)\n",
      "  smoothed_data = smoothed_data.sort('x')\n"
     ]
    },
    {
     "data": {
      "image/png": "[encoded data removed]",
      "text/plain": [
       "<matplotlib.figure.Figure at 0x234769c2c50>"
      ]
     },
     "metadata": {},
     "output_type": "display_data"
    },
    {
     "data": {
      "text/plain": [
       "<ggplot: (151521991793)>"
      ]
     },
     "execution_count": 25,
     "metadata": {},
     "output_type": "execute_result"
    }
   ],
   "source": [
    "ggplot(aes(x=\"C_param\",y=\"variables_with_coef_zero\"),data=validation)+\\\n",
    "geom_point(color=\"green\")+\\\n",
    "geom_line(color=\"red\")+\\\n",
    "stat_smooth(method=\"loess\",span=0.0)+\\\n",
    "xlab(\"c parameters\") + ylab(\"no. of variables with coeffiient zero\") + ggtitle(\"Variables\")"
   ]
  },
  {
   "cell_type": "code",
   "execution_count": 26,
   "metadata": {
    "collapsed": false
   },
   "outputs": [
    {
     "name": "stderr",
     "output_type": "stream",
     "text": [
      "C:\\Users\\Riya\\AppData\\Local\\Continuum\\Anaconda3\\lib\\site-packages\\ggplot\\stats\\stat_smooth.py:77: FutureWarning: sort(columns=....) is deprecated, use sort_values(by=.....)\n",
      "  smoothed_data = smoothed_data.sort('x')\n"
     ]
    },
    {
     "data": {
      "image/png": "[encoded data removed]",
      "text/plain": [
       "<matplotlib.figure.Figure at 0x23477e0d978>"
      ]
     },
     "metadata": {},
     "output_type": "display_data"
    },
    {
     "data": {
      "text/plain": [
       "<ggplot: (151523194453)>"
      ]
     },
     "execution_count": 26,
     "metadata": {},
     "output_type": "execute_result"
    }
   ],
   "source": [
    "ggplot(aes(x=\"C_param\",y=\"a_score\"),data=validation)+\\\n",
    "geom_point(color=\"blue\")+\\\n",
    "geom_line(color=\"green\")+\\\n",
    "stat_smooth(method=\"loess\",span=0.0)+\\\n",
    "xlab(\"c parameters\") + ylab(\"auc score\") + ggtitle(\"Score\")"
   ]
  },
  {
   "cell_type": "markdown",
   "metadata": {},
   "source": [
    "Two separate plots have been plotted just to avoid any confusion as the scales of both the variables are different.\n",
    "From the plots you can see that as the C value decreases , number of variables with zero coefficient increses but the auc score decreases. So the C parameter is chosen in such a way that it should not penalize either to an extreme."
   ]
  },
  {
   "cell_type": "markdown",
   "metadata": {},
   "source": [
    "## Question 3. \n",
    "\n",
    "Build logistic regression model with l2 penalty and best value of penalty C. Find out auc score on test\n",
    "data for the same."
   ]
  },
  {
   "cell_type": "code",
   "execution_count": 27,
   "metadata": {
    "collapsed": false
   },
   "outputs": [
    {
     "name": "stdout",
     "output_type": "stream",
     "text": [
      "0.000\t 0.90573\t \n",
      "0.000\t 0.90578\t \n",
      "0.001\t 0.90545\t \n",
      "0.001\t 0.90556\t \n",
      "0.005\t 0.90626\t \n",
      "0.010\t 0.90595\t \n",
      "0.050\t 0.90585\t \n",
      "0.100\t 0.90601\t \n",
      "0.500\t 0.90608\t \n",
      "1.000\t 0.90616\t \n",
      "10.000\t 0.90649\t \n",
      "100.000\t 0.90659\t \n",
      "500.000\t 0.90655\t \n",
      "1000.000\t 0.90661\t \n",
      "Value of C with max AUC score: 0.906606634287  for 10 fold CV is : 1000.0\n"
     ]
    }
   ],
   "source": [
    "#finding out the best parameter for logistic using l2 penalty\n",
    "C_param =[0.0001,0.0002,0.0005,0.001,0.005,0.01,0.05, 0.1,0.5, 1, 10, 100,500,1000] \n",
    "auc_10cv=[]\n",
    "for c in C_param:\n",
    "    logr=LogisticRegression(C=c,penalty=\"l2\",class_weight=\"balanced\",random_state=2)\n",
    "    kf = KFold(len(x_train), n_folds=10)\n",
    "    score_c=0\n",
    "    for train, test in kf:\n",
    "        logr.fit(x_train.loc[train], y_train[train])\n",
    "        score_c+=roc_auc_score(y_train,logr.predict(x_train))\n",
    "    auc_10cv.append(score_c/10)\n",
    "    print('{:.3f}\\t {:.5f}\\t '.format(c,score_c/10))\n",
    "C_param=np.array(C_param)\n",
    "auc_10cv=np.array(auc_10cv)\n",
    "best_c=C_param[auc_10cv==max(auc_10cv)][0]\n",
    "print('Value of C with max AUC score:',max(auc_10cv),' for 10 fold CV is :',best_c )"
   ]
  },
  {
   "cell_type": "code",
   "execution_count": 32,
   "metadata": {
    "collapsed": true
   },
   "outputs": [],
   "source": [
    "logr=LogisticRegression(C=best_c,penalty=\"l2\",class_weight=\"balanced\",random_state=2)"
   ]
  },
  {
   "cell_type": "code",
   "execution_count": 33,
   "metadata": {
    "collapsed": false
   },
   "outputs": [
    {
     "data": {
      "text/plain": [
       "LogisticRegression(C=1000.0, class_weight='balanced', dual=False,\n",
       "          fit_intercept=True, intercept_scaling=1, max_iter=100,\n",
       "          multi_class='ovr', n_jobs=1, penalty='l2', random_state=2,\n",
       "          solver='liblinear', tol=0.0001, verbose=0, warm_start=False)"
      ]
     },
     "execution_count": 33,
     "metadata": {},
     "output_type": "execute_result"
    }
   ],
   "source": [
    "logr.fit(x_train,y_train)"
   ]
  },
  {
   "cell_type": "code",
   "execution_count": 34,
   "metadata": {
    "collapsed": false
   },
   "outputs": [
    {
     "data": {
      "text/plain": [
       "0.90762421555553141"
      ]
     },
     "execution_count": 34,
     "metadata": {},
     "output_type": "execute_result"
    }
   ],
   "source": [
    "roc_auc_score(y_train,logr.predict(x_train))"
   ]
  },
  {
   "cell_type": "code",
   "execution_count": 35,
   "metadata": {
    "collapsed": false
   },
   "outputs": [
    {
     "data": {
      "text/plain": [
       "0.89848505810736023"
      ]
     },
     "execution_count": 35,
     "metadata": {},
     "output_type": "execute_result"
    }
   ],
   "source": [
    "roc_auc_score(y_test,logr.predict(x_test))"
   ]
  },
  {
   "cell_type": "markdown",
   "metadata": {},
   "source": [
    "As compared to l2 penalty,l1 penalty gives better auc score in this case. \n"
   ]
  },
  {
   "cell_type": "markdown",
   "metadata": {},
   "source": [
    "<br><br>\n",
    "\n",
    "Prepared By: Riya Agrawal(riya.agrawal@edvancer.in) and Lalit Sachan (lalit.sachan@edvancer.in)"
   ]
  }
 ],
 "metadata": {
  "anaconda-cloud": {},
  "kernelspec": {
   "display_name": "Python [Root]",
   "language": "python",
   "name": "Python [Root]"
  },
  "language_info": {
   "codemirror_mode": {
    "name": "ipython",
    "version": 3
   },
   "file_extension": ".py",
   "mimetype": "text/x-python",
   "name": "python",
   "nbconvert_exporter": "python",
   "pygments_lexer": "ipython3",
   "version": "3.5.2"
  }
 },
 "nbformat": 4,
 "nbformat_minor": 0
}
