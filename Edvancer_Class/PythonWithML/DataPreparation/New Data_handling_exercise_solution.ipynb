{
 "cells": [
  {
   "cell_type": "markdown",
   "metadata": {},
   "source": [
    "#### ** Data handling exercise solution:**\n"
   ]
  },
  {
   "cell_type": "markdown",
   "metadata": {},
   "source": [
    "1\\. Create an array [[riya,lalit,andy],[prof dinesh,prof andrew, prof peter],[71,75,50]].From this array create a     \n",
    "   dictionary that has students with their respective prof name and marks obtained.\n",
    "   \n",
    "   It should be like: \n",
    "   \n",
    "   d={'riya':['prof dinesh',71],'lalit':['prof andrew',75],'andy':['prof peter',50]}\n",
    "   \n",
    "\n",
    "   "
   ]
  },
  {
   "cell_type": "code",
   "execution_count": 1,
   "metadata": {
    "ExecuteTime": {
     "end_time": "2019-10-15T04:55:00.215327Z",
     "start_time": "2019-10-15T04:55:00.185406Z"
    }
   },
   "outputs": [],
   "source": [
    "import warnings\n",
    "warnings.filterwarnings('ignore')\n"
   ]
  },
  {
   "cell_type": "code",
   "execution_count": 2,
   "metadata": {
    "ExecuteTime": {
     "end_time": "2019-10-15T04:55:04.585792Z",
     "start_time": "2019-10-15T04:55:00.910467Z"
    }
   },
   "outputs": [],
   "source": [
    "import numpy as np\n",
    "import math\n"
   ]
  },
  {
   "cell_type": "code",
   "execution_count": 3,
   "metadata": {
    "ExecuteTime": {
     "end_time": "2019-10-15T04:55:04.620659Z",
     "start_time": "2019-10-15T04:55:04.588746Z"
    }
   },
   "outputs": [
    {
     "name": "stdout",
     "output_type": "stream",
     "text": [
      "[['riya' 'lalit' 'andy']\n",
      " ['prof_dinesh' 'prof_andrew' 'prof_peter']\n",
      " ['71' '75' '50']]\n"
     ]
    },
    {
     "data": {
      "text/plain": [
       "{'riya': ('prof_dinesh', '71'),\n",
       " 'lalit': ('prof_andrew', '75'),\n",
       " 'andy': ('prof_peter', '50')}"
      ]
     },
     "execution_count": 3,
     "metadata": {},
     "output_type": "execute_result"
    }
   ],
   "source": [
    "l = np.array([[\"riya\",\"lalit\",\"andy\"],[\"prof_dinesh\",\"prof_andrew\", \"prof_peter\"],[71,75,50]])   \n",
    "print(l)\n",
    "\n",
    "d={l[0,0]:(l[1,0],l[2,0]),l[0,1]:(l[1,1],l[2,1]),l[0,2]:(l[1,2],l[2,2])} #extracting array values using index\n",
    "d"
   ]
  },
  {
   "cell_type": "markdown",
   "metadata": {},
   "source": [
    "2\\. create an array [[4,0,0],[4,4,0],[4,4,4]].Discover a direct function to get this lower triangular matrix or you can\n",
    "   come up with any solution of yours\n",
    "   "
   ]
  },
  {
   "cell_type": "code",
   "execution_count": 4,
   "metadata": {
    "ExecuteTime": {
     "end_time": "2019-10-15T04:55:07.103020Z",
     "start_time": "2019-10-15T04:55:07.094044Z"
    }
   },
   "outputs": [
    {
     "name": "stdout",
     "output_type": "stream",
     "text": [
      "[[0 0 0]\n",
      " [4 0 0]\n",
      " [4 4 0]]\n"
     ]
    },
    {
     "data": {
      "text/plain": [
       "array([[4, 0, 0],\n",
       "       [4, 4, 0],\n",
       "       [4, 4, 4]])"
      ]
     },
     "execution_count": 4,
     "metadata": {},
     "output_type": "execute_result"
    }
   ],
   "source": [
    "a=np.tril(np.full((3,3),4,dtype=int), -1)#to get the lower triangular matrix\n",
    "print(a)\n",
    "\n",
    "np.fill_diagonal(a,4)#to get the diagonal element\n",
    "a"
   ]
  },
  {
   "cell_type": "markdown",
   "metadata": {},
   "source": [
    "3\\. Create an array of string data type of dimension 3,3 [you can put any strings of your choice in this array]. Obtain\n",
    "   length of each string value in a separate 3,3 array. Also extract vowels of each string value and make a separate \n",
    "   3,3 array consisting of vowels of respective string value.\n",
    "   \n",
    "   Example: \n",
    "   \n",
    "   say you have an array [[me, i, my],[we, us, ours],[you, yours, them]]\n",
    "   the length matrix should be [[2,1,2],[2,2,4],[3,5,4]]\n",
    "   and vowel matrix should be  [[e,i,None],[e,u,ou],[ou,ou,e]]"
   ]
  },
  {
   "cell_type": "code",
   "execution_count": 5,
   "metadata": {
    "ExecuteTime": {
     "end_time": "2019-10-15T04:55:08.738645Z",
     "start_time": "2019-10-15T04:55:08.726676Z"
    }
   },
   "outputs": [
    {
     "name": "stdout",
     "output_type": "stream",
     "text": [
      "[['me' 'i' 'my']\n",
      " ['we' 'us' 'ours']\n",
      " ['you' 'yours' 'them']]\n",
      "['me' 'i' 'my' 'we' 'us' 'ours' 'you' 'yours' 'them']\n"
     ]
    },
    {
     "data": {
      "text/plain": [
       "array([[2, 1, 2],\n",
       "       [2, 2, 4],\n",
       "       [3, 5, 4]])"
      ]
     },
     "execution_count": 5,
     "metadata": {},
     "output_type": "execute_result"
    }
   ],
   "source": [
    "str_array=np.array([[\"me\", \"i\", \"my\"],[\"we\", \"us\", \"ours\"],[\"you\", \"yours\", \"them\"]])\n",
    "print(str_array)\n",
    "list=str_array.flatten() #convert the array in a single list of all elements\n",
    "print(list)\n",
    "\n",
    "    \n",
    "l=np.array([len(element) for element in list])\n",
    "np.reshape(l,(3,3)) #shaping the list to an array"
   ]
  },
  {
   "cell_type": "markdown",
   "metadata": {},
   "source": [
    "**extract vowels of each string value and make a separate 3,3 array consisting of vowels of respective string value: \n",
    "for discussion in Q&A forum**\n"
   ]
  },
  {
   "cell_type": "markdown",
   "metadata": {},
   "source": [
    "4\\. Take an array of dimension 3,3 of float datatype(these should be random values between 2 to 40 , all integers) and \n",
    "   print only those numbers which are prime [Prime numbers are numbers which are divisible only by themselves.]\n",
    "\n",
    "   Example:\n",
    "   \n",
    "   if It takes [[2,5,11],[8,15,9],[21,29,30]]\n",
    "   It should give me the output: 2,5,29\n",
    "   \n",
    " "
   ]
  },
  {
   "cell_type": "code",
   "execution_count": 6,
   "metadata": {
    "ExecuteTime": {
     "end_time": "2019-10-15T04:55:12.019669Z",
     "start_time": "2019-10-15T04:55:12.008699Z"
    }
   },
   "outputs": [
    {
     "name": "stdout",
     "output_type": "stream",
     "text": [
      "[[ 8 19 27]\n",
      " [35 28 22]\n",
      " [ 7 15 16]]\n"
     ]
    },
    {
     "data": {
      "text/plain": [
       "array([19,  7])"
      ]
     },
     "execution_count": 6,
     "metadata": {},
     "output_type": "execute_result"
    }
   ],
   "source": [
    "import random\n",
    "x = np.random.randint(low=2,high=40, size=(3, 3))\n",
    "print(x)\n",
    "\n",
    "primes=[2,3,5,7,11,13,17,19,23,29,31,37] #prime numbers between 2 and 40\n",
    "\n",
    "is_prime=(x==2)\n",
    "for p in primes[1:] :\n",
    "    is_prime=np.logical_or(is_prime,x==p)\n",
    "    \n",
    "x[is_prime]\n",
    "\n",
    "#The other function which can be use is:\n",
    "# for i in range(3):\n",
    "#     for j in range(3):\n",
    "#         r=0\n",
    "#         for k in range (2,x[i,j]+1):\n",
    "#             if(x[i,j]%k==0):\n",
    "#                 r=r+1\n",
    "#         if(r==1): \n",
    "#             print(x[i,j])\n"
   ]
  },
  {
   "cell_type": "markdown",
   "metadata": {},
   "source": [
    "5\\. Obtain sum of diagonal elements of the matrix you considered above.\n",
    "   \n",
    "   Example:For me, if this is the matrix [[2,5,11],[8,15,9],[21,29,30]]\n",
    "   It should give me the output: 47\n",
    "   \n",
    "   "
   ]
  },
  {
   "cell_type": "code",
   "execution_count": 7,
   "metadata": {
    "ExecuteTime": {
     "end_time": "2019-10-15T04:55:13.196522Z",
     "start_time": "2019-10-15T04:55:13.190537Z"
    }
   },
   "outputs": [
    {
     "name": "stdout",
     "output_type": "stream",
     "text": [
      "[[ 8 19 27]\n",
      " [35 28 22]\n",
      " [ 7 15 16]]\n"
     ]
    },
    {
     "data": {
      "text/plain": [
       "52"
      ]
     },
     "execution_count": 7,
     "metadata": {},
     "output_type": "execute_result"
    }
   ],
   "source": [
    "print(x)\n",
    "\n",
    "sum(np.diag(x))"
   ]
  },
  {
   "cell_type": "markdown",
   "metadata": {},
   "source": [
    "6\\. Given the two vectors a=i-3j+6k and b=3i+5j, obtain dot product between them and also the angle between the two \n",
    "   lines. Use numpy arrays to represent these vectors.\n",
    "   \n",
    " "
   ]
  },
  {
   "cell_type": "code",
   "execution_count": 8,
   "metadata": {
    "ExecuteTime": {
     "end_time": "2019-10-15T04:55:14.174904Z",
     "start_time": "2019-10-15T04:55:14.159944Z"
    }
   },
   "outputs": [
    {
     "name": "stdout",
     "output_type": "stream",
     "text": [
      "[[ 1 -3  6]] [[3 5 0]]\n",
      "[[-12]]\n",
      "[[ 1  9 36]]\n",
      "[[ 9 25  0]]\n",
      "[[-0.30343304]]\n",
      "1.8790898337700073\n"
     ]
    }
   ],
   "source": [
    "import math\n",
    "\n",
    "l_1=np.array([[1,-3,6]])  \n",
    "l_2=np.array([[3,5,0]])\n",
    "print(l_1,l_2)\n",
    "\n",
    "dot_prod=np.dot(l_1,l_2.T) #or use l_1*l_2\n",
    "print(dot_prod)\n",
    "\n",
    "l_1s=np.square(l_1) # A.B=|A||B|cos(theta)\n",
    "print(l_1s)\n",
    "l_2s=np.square(l_2)\n",
    "print(l_2s)\n",
    "\n",
    "mod_1=math.sqrt(np.sum(l_1s))\n",
    "mod_2=math.sqrt(np.sum(l_2s))\n",
    "print((dot_prod) / ((mod_1) * (mod_2)))\n",
    "\n",
    "angle= math.acos((dot_prod) / ((mod_1) * (mod_2))) #to obtain angle\n",
    "print(angle)"
   ]
  },
  {
   "cell_type": "markdown",
   "metadata": {},
   "source": [
    "7\\. Import a data set 'revenue' which should not contain the index column.[ csv file is uploaded in the LMS under \n",
    "   datasets tab ]\n",
    "   "
   ]
  },
  {
   "cell_type": "code",
   "execution_count": 11,
   "metadata": {
    "ExecuteTime": {
     "end_time": "2019-10-15T04:57:09.113211Z",
     "start_time": "2019-10-15T04:57:08.346263Z"
    }
   },
   "outputs": [
    {
     "data": {
      "text/html": [
       "<div>\n",
       "<style scoped>\n",
       "    .dataframe tbody tr th:only-of-type {\n",
       "        vertical-align: middle;\n",
       "    }\n",
       "\n",
       "    .dataframe tbody tr th {\n",
       "        vertical-align: top;\n",
       "    }\n",
       "\n",
       "    .dataframe thead th {\n",
       "        text-align: right;\n",
       "    }\n",
       "</style>\n",
       "<table border=\"1\" class=\"dataframe\">\n",
       "  <thead>\n",
       "    <tr style=\"text-align: right;\">\n",
       "      <th></th>\n",
       "      <th>DEL_NO</th>\n",
       "      <th>FCD</th>\n",
       "      <th>DataRevenue_JAN</th>\n",
       "      <th>DataRevenue_FEB</th>\n",
       "      <th>DataRevenue_MAR</th>\n",
       "      <th>DataRevenue_APR</th>\n",
       "      <th>DataRevenue_May</th>\n",
       "      <th>DataUsageMB_JAN</th>\n",
       "      <th>DataUsageMB_FEB</th>\n",
       "      <th>DataUsageMB_MAR</th>\n",
       "      <th>...</th>\n",
       "      <th>2G-3G_Latch_FEB</th>\n",
       "      <th>2G-3G_Latch_MAR</th>\n",
       "      <th>2G-3G_Latch_APR</th>\n",
       "      <th>2G-3G_Latch_MAY</th>\n",
       "      <th>DUProfile_JAN</th>\n",
       "      <th>DUProfile_FEB</th>\n",
       "      <th>DUProfile_MAR</th>\n",
       "      <th>DUProfile_APR</th>\n",
       "      <th>DUProfile_May</th>\n",
       "      <th>Customer Type</th>\n",
       "    </tr>\n",
       "  </thead>\n",
       "  <tbody>\n",
       "    <tr>\n",
       "      <th>0</th>\n",
       "      <td>1</td>\n",
       "      <td>03-11-2010</td>\n",
       "      <td>172.0</td>\n",
       "      <td>176.0</td>\n",
       "      <td>0.0</td>\n",
       "      <td>225.0</td>\n",
       "      <td>0.0</td>\n",
       "      <td>1595.0</td>\n",
       "      <td>998.0</td>\n",
       "      <td>667.0</td>\n",
       "      <td>...</td>\n",
       "      <td>3G</td>\n",
       "      <td>3G</td>\n",
       "      <td>3G</td>\n",
       "      <td>3G</td>\n",
       "      <td>H</td>\n",
       "      <td>M</td>\n",
       "      <td>M</td>\n",
       "      <td>M</td>\n",
       "      <td>M</td>\n",
       "      <td>Consistent_M</td>\n",
       "    </tr>\n",
       "    <tr>\n",
       "      <th>1</th>\n",
       "      <td>2</td>\n",
       "      <td>16-02-2016</td>\n",
       "      <td>NaN</td>\n",
       "      <td>69.0</td>\n",
       "      <td>68.0</td>\n",
       "      <td>109.0</td>\n",
       "      <td>82.0</td>\n",
       "      <td>NaN</td>\n",
       "      <td>305.0</td>\n",
       "      <td>429.0</td>\n",
       "      <td>...</td>\n",
       "      <td>3G</td>\n",
       "      <td>NaN</td>\n",
       "      <td>NaN</td>\n",
       "      <td>3G</td>\n",
       "      <td>NaN</td>\n",
       "      <td>M</td>\n",
       "      <td>M</td>\n",
       "      <td>M</td>\n",
       "      <td>M</td>\n",
       "      <td>Consistent_M</td>\n",
       "    </tr>\n",
       "    <tr>\n",
       "      <th>2</th>\n",
       "      <td>3</td>\n",
       "      <td>05-05-2015</td>\n",
       "      <td>148.0</td>\n",
       "      <td>217.0</td>\n",
       "      <td>185.0</td>\n",
       "      <td>182.0</td>\n",
       "      <td>156.0</td>\n",
       "      <td>555.0</td>\n",
       "      <td>795.0</td>\n",
       "      <td>905.0</td>\n",
       "      <td>...</td>\n",
       "      <td>NaN</td>\n",
       "      <td>NaN</td>\n",
       "      <td>NaN</td>\n",
       "      <td>NaN</td>\n",
       "      <td>M</td>\n",
       "      <td>M</td>\n",
       "      <td>M</td>\n",
       "      <td>M</td>\n",
       "      <td>M</td>\n",
       "      <td>Consistent_M</td>\n",
       "    </tr>\n",
       "    <tr>\n",
       "      <th>3</th>\n",
       "      <td>4</td>\n",
       "      <td>06-04-2015</td>\n",
       "      <td>NaN</td>\n",
       "      <td>34.0</td>\n",
       "      <td>131.0</td>\n",
       "      <td>86.0</td>\n",
       "      <td>0.0</td>\n",
       "      <td>NaN</td>\n",
       "      <td>206.0</td>\n",
       "      <td>1499.0</td>\n",
       "      <td>...</td>\n",
       "      <td>3G</td>\n",
       "      <td>3G</td>\n",
       "      <td>3G</td>\n",
       "      <td>NaN</td>\n",
       "      <td>NaN</td>\n",
       "      <td>L</td>\n",
       "      <td>H</td>\n",
       "      <td>M</td>\n",
       "      <td>M</td>\n",
       "      <td>Consistent_M</td>\n",
       "    </tr>\n",
       "    <tr>\n",
       "      <th>4</th>\n",
       "      <td>5</td>\n",
       "      <td>08-07-2012</td>\n",
       "      <td>103.0</td>\n",
       "      <td>NaN</td>\n",
       "      <td>NaN</td>\n",
       "      <td>104.0</td>\n",
       "      <td>109.0</td>\n",
       "      <td>996.0</td>\n",
       "      <td>NaN</td>\n",
       "      <td>NaN</td>\n",
       "      <td>...</td>\n",
       "      <td>NaN</td>\n",
       "      <td>NaN</td>\n",
       "      <td>NaN</td>\n",
       "      <td>NaN</td>\n",
       "      <td>M</td>\n",
       "      <td>NaN</td>\n",
       "      <td>NaN</td>\n",
       "      <td>M</td>\n",
       "      <td>M</td>\n",
       "      <td>Consistent_M</td>\n",
       "    </tr>\n",
       "  </tbody>\n",
       "</table>\n",
       "<p>5 rows × 30 columns</p>\n",
       "</div>"
      ],
      "text/plain": [
       "   DEL_NO         FCD  DataRevenue_JAN  DataRevenue_FEB  DataRevenue_MAR  \\\n",
       "0       1  03-11-2010            172.0            176.0              0.0   \n",
       "1       2  16-02-2016              NaN             69.0             68.0   \n",
       "2       3  05-05-2015            148.0            217.0            185.0   \n",
       "3       4  06-04-2015              NaN             34.0            131.0   \n",
       "4       5  08-07-2012            103.0              NaN              NaN   \n",
       "\n",
       "   DataRevenue_APR  DataRevenue_May  DataUsageMB_JAN  DataUsageMB_FEB  \\\n",
       "0            225.0              0.0           1595.0            998.0   \n",
       "1            109.0             82.0              NaN            305.0   \n",
       "2            182.0            156.0            555.0            795.0   \n",
       "3             86.0              0.0              NaN            206.0   \n",
       "4            104.0            109.0            996.0              NaN   \n",
       "\n",
       "   DataUsageMB_MAR  ...  2G-3G_Latch_FEB  2G-3G_Latch_MAR 2G-3G_Latch_APR  \\\n",
       "0            667.0  ...               3G               3G              3G   \n",
       "1            429.0  ...               3G              NaN             NaN   \n",
       "2            905.0  ...              NaN              NaN             NaN   \n",
       "3           1499.0  ...               3G               3G              3G   \n",
       "4              NaN  ...              NaN              NaN             NaN   \n",
       "\n",
       "  2G-3G_Latch_MAY DUProfile_JAN DUProfile_FEB DUProfile_MAR  DUProfile_APR  \\\n",
       "0              3G             H             M             M              M   \n",
       "1              3G           NaN             M             M              M   \n",
       "2             NaN             M             M             M              M   \n",
       "3             NaN           NaN             L             H              M   \n",
       "4             NaN             M           NaN           NaN              M   \n",
       "\n",
       "   DUProfile_May Customer Type  \n",
       "0              M  Consistent_M  \n",
       "1              M  Consistent_M  \n",
       "2              M  Consistent_M  \n",
       "3              M  Consistent_M  \n",
       "4              M  Consistent_M  \n",
       "\n",
       "[5 rows x 30 columns]"
      ]
     },
     "execution_count": 11,
     "metadata": {},
     "output_type": "execute_result"
    }
   ],
   "source": [
    "import pandas as pd\n",
    "%matplotlib inline\n",
    "\n",
    "myfile='C:/Users/anjal/Dropbox/March onwards/Python Data Science/Data/Data/revenue.csv'\n",
    "rev=pd.read_csv(myfile,index_col=False)\n",
    "\n",
    "rev.head()"
   ]
  },
  {
   "cell_type": "markdown",
   "metadata": {},
   "source": [
    "* Change the data type of column Del_No to object type so that it is not considered as float data type.\n"
   ]
  },
  {
   "cell_type": "code",
   "execution_count": 12,
   "metadata": {
    "ExecuteTime": {
     "end_time": "2019-10-15T04:57:43.074361Z",
     "start_time": "2019-10-15T04:57:43.005544Z"
    }
   },
   "outputs": [
    {
     "data": {
      "text/plain": [
       "dtype('O')"
      ]
     },
     "execution_count": 12,
     "metadata": {},
     "output_type": "execute_result"
    }
   ],
   "source": [
    "rev['DEL_NO']=rev['DEL_NO'].astype('str')\n",
    "rev[\"DEL_NO\"].dtype"
   ]
  },
  {
   "cell_type": "markdown",
   "metadata": {},
   "source": [
    "* get summary statistics of the numeric columns. \n"
   ]
  },
  {
   "cell_type": "code",
   "execution_count": 13,
   "metadata": {
    "ExecuteTime": {
     "end_time": "2019-10-15T04:57:44.393830Z",
     "start_time": "2019-10-15T04:57:44.243233Z"
    }
   },
   "outputs": [
    {
     "data": {
      "text/html": [
       "<div>\n",
       "<style scoped>\n",
       "    .dataframe tbody tr th:only-of-type {\n",
       "        vertical-align: middle;\n",
       "    }\n",
       "\n",
       "    .dataframe tbody tr th {\n",
       "        vertical-align: top;\n",
       "    }\n",
       "\n",
       "    .dataframe thead th {\n",
       "        text-align: right;\n",
       "    }\n",
       "</style>\n",
       "<table border=\"1\" class=\"dataframe\">\n",
       "  <thead>\n",
       "    <tr style=\"text-align: right;\">\n",
       "      <th></th>\n",
       "      <th>DataRevenue_JAN</th>\n",
       "      <th>DataRevenue_FEB</th>\n",
       "      <th>DataRevenue_MAR</th>\n",
       "      <th>DataRevenue_APR</th>\n",
       "      <th>DataRevenue_May</th>\n",
       "      <th>DataUsageMB_JAN</th>\n",
       "      <th>DataUsageMB_FEB</th>\n",
       "      <th>DataUsageMB_MAR</th>\n",
       "      <th>DataUsageMB_APR</th>\n",
       "      <th>DataUsageMB_May</th>\n",
       "      <th>April_DUActivityDays</th>\n",
       "      <th>May_DUActivityDays</th>\n",
       "    </tr>\n",
       "  </thead>\n",
       "  <tbody>\n",
       "    <tr>\n",
       "      <th>count</th>\n",
       "      <td>43095.000000</td>\n",
       "      <td>49122.000000</td>\n",
       "      <td>51815.000000</td>\n",
       "      <td>52166.000000</td>\n",
       "      <td>51976.000000</td>\n",
       "      <td>43095.000000</td>\n",
       "      <td>49122.000000</td>\n",
       "      <td>51815.000000</td>\n",
       "      <td>52166.000000</td>\n",
       "      <td>51976.000000</td>\n",
       "      <td>52149.000000</td>\n",
       "      <td>51609.000000</td>\n",
       "    </tr>\n",
       "    <tr>\n",
       "      <th>mean</th>\n",
       "      <td>130.230073</td>\n",
       "      <td>114.931456</td>\n",
       "      <td>125.420284</td>\n",
       "      <td>126.965456</td>\n",
       "      <td>127.636890</td>\n",
       "      <td>823.251073</td>\n",
       "      <td>739.291947</td>\n",
       "      <td>807.447901</td>\n",
       "      <td>792.812004</td>\n",
       "      <td>817.985032</td>\n",
       "      <td>16.300811</td>\n",
       "      <td>16.768335</td>\n",
       "    </tr>\n",
       "    <tr>\n",
       "      <th>std</th>\n",
       "      <td>172.342203</td>\n",
       "      <td>160.012812</td>\n",
       "      <td>177.648049</td>\n",
       "      <td>175.286359</td>\n",
       "      <td>180.626263</td>\n",
       "      <td>1293.189090</td>\n",
       "      <td>1151.514743</td>\n",
       "      <td>1261.087031</td>\n",
       "      <td>1284.582859</td>\n",
       "      <td>1338.030923</td>\n",
       "      <td>10.612678</td>\n",
       "      <td>10.836272</td>\n",
       "    </tr>\n",
       "    <tr>\n",
       "      <th>min</th>\n",
       "      <td>0.000000</td>\n",
       "      <td>0.000000</td>\n",
       "      <td>0.000000</td>\n",
       "      <td>0.000000</td>\n",
       "      <td>0.000000</td>\n",
       "      <td>0.000000</td>\n",
       "      <td>0.000000</td>\n",
       "      <td>0.000000</td>\n",
       "      <td>0.000000</td>\n",
       "      <td>0.000000</td>\n",
       "      <td>1.000000</td>\n",
       "      <td>1.000000</td>\n",
       "    </tr>\n",
       "    <tr>\n",
       "      <th>25%</th>\n",
       "      <td>18.000000</td>\n",
       "      <td>10.000000</td>\n",
       "      <td>13.000000</td>\n",
       "      <td>15.000000</td>\n",
       "      <td>14.000000</td>\n",
       "      <td>135.000000</td>\n",
       "      <td>116.000000</td>\n",
       "      <td>114.000000</td>\n",
       "      <td>99.000000</td>\n",
       "      <td>101.000000</td>\n",
       "      <td>6.000000</td>\n",
       "      <td>6.000000</td>\n",
       "    </tr>\n",
       "    <tr>\n",
       "      <th>50%</th>\n",
       "      <td>86.000000</td>\n",
       "      <td>70.000000</td>\n",
       "      <td>80.000000</td>\n",
       "      <td>82.000000</td>\n",
       "      <td>81.000000</td>\n",
       "      <td>407.000000</td>\n",
       "      <td>385.000000</td>\n",
       "      <td>396.000000</td>\n",
       "      <td>375.000000</td>\n",
       "      <td>383.000000</td>\n",
       "      <td>17.000000</td>\n",
       "      <td>17.000000</td>\n",
       "    </tr>\n",
       "    <tr>\n",
       "      <th>75%</th>\n",
       "      <td>173.000000</td>\n",
       "      <td>152.000000</td>\n",
       "      <td>170.000000</td>\n",
       "      <td>171.000000</td>\n",
       "      <td>170.000000</td>\n",
       "      <td>1053.000000</td>\n",
       "      <td>983.000000</td>\n",
       "      <td>1036.500000</td>\n",
       "      <td>1018.000000</td>\n",
       "      <td>1028.000000</td>\n",
       "      <td>27.000000</td>\n",
       "      <td>28.000000</td>\n",
       "    </tr>\n",
       "    <tr>\n",
       "      <th>max</th>\n",
       "      <td>3680.000000</td>\n",
       "      <td>4415.000000</td>\n",
       "      <td>5991.000000</td>\n",
       "      <td>6966.000000</td>\n",
       "      <td>8910.000000</td>\n",
       "      <td>45132.000000</td>\n",
       "      <td>47479.000000</td>\n",
       "      <td>46362.000000</td>\n",
       "      <td>58451.000000</td>\n",
       "      <td>77598.000000</td>\n",
       "      <td>30.000000</td>\n",
       "      <td>31.000000</td>\n",
       "    </tr>\n",
       "  </tbody>\n",
       "</table>\n",
       "</div>"
      ],
      "text/plain": [
       "       DataRevenue_JAN  DataRevenue_FEB  DataRevenue_MAR  DataRevenue_APR  \\\n",
       "count     43095.000000     49122.000000     51815.000000     52166.000000   \n",
       "mean        130.230073       114.931456       125.420284       126.965456   \n",
       "std         172.342203       160.012812       177.648049       175.286359   \n",
       "min           0.000000         0.000000         0.000000         0.000000   \n",
       "25%          18.000000        10.000000        13.000000        15.000000   \n",
       "50%          86.000000        70.000000        80.000000        82.000000   \n",
       "75%         173.000000       152.000000       170.000000       171.000000   \n",
       "max        3680.000000      4415.000000      5991.000000      6966.000000   \n",
       "\n",
       "       DataRevenue_May  DataUsageMB_JAN  DataUsageMB_FEB  DataUsageMB_MAR  \\\n",
       "count     51976.000000     43095.000000     49122.000000     51815.000000   \n",
       "mean        127.636890       823.251073       739.291947       807.447901   \n",
       "std         180.626263      1293.189090      1151.514743      1261.087031   \n",
       "min           0.000000         0.000000         0.000000         0.000000   \n",
       "25%          14.000000       135.000000       116.000000       114.000000   \n",
       "50%          81.000000       407.000000       385.000000       396.000000   \n",
       "75%         170.000000      1053.000000       983.000000      1036.500000   \n",
       "max        8910.000000     45132.000000     47479.000000     46362.000000   \n",
       "\n",
       "       DataUsageMB_APR  DataUsageMB_May  April_DUActivityDays  \\\n",
       "count     52166.000000     51976.000000          52149.000000   \n",
       "mean        792.812004       817.985032             16.300811   \n",
       "std        1284.582859      1338.030923             10.612678   \n",
       "min           0.000000         0.000000              1.000000   \n",
       "25%          99.000000       101.000000              6.000000   \n",
       "50%         375.000000       383.000000             17.000000   \n",
       "75%        1018.000000      1028.000000             27.000000   \n",
       "max       58451.000000     77598.000000             30.000000   \n",
       "\n",
       "       May_DUActivityDays  \n",
       "count        51609.000000  \n",
       "mean            16.768335  \n",
       "std             10.836272  \n",
       "min              1.000000  \n",
       "25%              6.000000  \n",
       "50%             17.000000  \n",
       "75%             28.000000  \n",
       "max             31.000000  "
      ]
     },
     "execution_count": 13,
     "metadata": {},
     "output_type": "execute_result"
    }
   ],
   "source": [
    "rev.describe()"
   ]
  },
  {
   "cell_type": "markdown",
   "metadata": {},
   "source": [
    "   * The data set contains lot of missing values, count number of missing values for each column. How can we impute \n",
    "     these?"
   ]
  },
  {
   "cell_type": "code",
   "execution_count": 14,
   "metadata": {
    "ExecuteTime": {
     "end_time": "2019-10-15T04:57:45.636544Z",
     "start_time": "2019-10-15T04:57:45.519818Z"
    }
   },
   "outputs": [
    {
     "name": "stdout",
     "output_type": "stream",
     "text": [
      "DEL_NO                      0\n",
      "FCD                         0\n",
      "DataRevenue_JAN         28002\n",
      "DataRevenue_FEB         21975\n",
      "DataRevenue_MAR         19282\n",
      "DataRevenue_APR         18931\n",
      "DataRevenue_May         19121\n",
      "DataUsageMB_JAN         28002\n",
      "DataUsageMB_FEB         21975\n",
      "DataUsageMB_MAR         19282\n",
      "DataUsageMB_APR         18931\n",
      "DataUsageMB_May         19121\n",
      "HandSetType_JAN         15257\n",
      "HandSetType_FEB          9111\n",
      "HandSetType_MAR          5075\n",
      "HandSetType_APR          1696\n",
      "HandSetType_MAY            78\n",
      "April_DUActivityDays    18948\n",
      "May_DUActivityDays      19488\n",
      "2G-3G_Latch_JAN         49616\n",
      "2G-3G_Latch_FEB         46730\n",
      "2G-3G_Latch_MAR         47801\n",
      "2G-3G_Latch_APR         47880\n",
      "2G-3G_Latch_MAY         47036\n",
      "DUProfile_JAN           31063\n",
      "DUProfile_FEB           25009\n",
      "DUProfile_MAR           22866\n",
      "DUProfile_APR           22410\n",
      "DUProfile_May           22251\n",
      "Customer Type               0\n",
      "dtype: int64\n"
     ]
    }
   ],
   "source": [
    "missing_values=rev.isnull().sum() #obtaing missing values\n",
    "print(missing_values)"
   ]
  },
  {
   "cell_type": "markdown",
   "metadata": {},
   "source": [
    "   * Obtain mean and sum of columns data_revenue and columns data_usage for all the months."
   ]
  },
  {
   "cell_type": "code",
   "execution_count": 15,
   "metadata": {
    "ExecuteTime": {
     "end_time": "2019-10-15T04:57:46.979913Z",
     "start_time": "2019-10-15T04:57:46.803385Z"
    }
   },
   "outputs": [
    {
     "name": "stdout",
     "output_type": "stream",
     "text": [
      "DataRevenue_JAN    227.229683\n",
      "DataRevenue_FEB    219.723388\n",
      "DataRevenue_MAR    244.314384\n",
      "DataRevenue_APR    241.336322\n",
      "DataRevenue_May    245.427509\n",
      "dtype: float64\n",
      "----\n",
      "DataRevenue_JAN    1191138.0\n",
      "DataRevenue_FEB    1151790.0\n",
      "DataRevenue_MAR    1280696.0\n",
      "DataRevenue_APR    1265085.0\n",
      "DataRevenue_May    1286531.0\n",
      "dtype: float64\n",
      "----\n",
      "DataUsageMB_JAN    1493.531095\n",
      "DataUsageMB_FEB    1429.585845\n",
      "DataUsageMB_MAR    1577.885540\n",
      "DataUsageMB_APR    1563.380961\n",
      "DataUsageMB_May    1598.008775\n",
      "dtype: float64\n",
      "----\n",
      "DataUsageMB_JAN    7829090.0\n",
      "DataUsageMB_FEB    7493889.0\n",
      "DataUsageMB_MAR    8271276.0\n",
      "DataUsageMB_APR    8195243.0\n",
      "DataUsageMB_May    8376762.0\n",
      "dtype: float64\n"
     ]
    }
   ],
   "source": [
    "rev=rev.dropna()#remove missing values\n",
    "\n",
    "mean_rev=rev[[\"DataRevenue_JAN\",\"DataRevenue_FEB\",\"DataRevenue_MAR\",\"DataRevenue_APR\",\"DataRevenue_May\"]].mean()\n",
    "print(mean_rev) #mean of all the columns of columns data_revenue\n",
    "\n",
    "print(\"----\")\n",
    "\n",
    "sum_rev=rev[[\"DataRevenue_JAN\",\"DataRevenue_FEB\",\"DataRevenue_MAR\",\"DataRevenue_APR\",\"DataRevenue_May\"]].sum()\n",
    "print(sum_rev) #sum of all the columns of columns data_revenue\n",
    "\n",
    "print(\"----\")\n",
    "\n",
    "mean_use=rev[[\"DataUsageMB_JAN\",\"DataUsageMB_FEB\",\"DataUsageMB_MAR\",\"DataUsageMB_APR\",\"DataUsageMB_May\"]].mean()\n",
    "print(mean_use) #mean of all the columns of columns data_usage\n",
    "\n",
    "print(\"----\")\n",
    "\n",
    "sum_use=rev[[\"DataUsageMB_JAN\",\"DataUsageMB_FEB\",\"DataUsageMB_MAR\",\"DataUsageMB_APR\",\"DataUsageMB_May\"]].sum()\n",
    "print(sum_use) #sum of all the columns of columns data_usage"
   ]
  },
  {
   "cell_type": "markdown",
   "metadata": {},
   "source": [
    "   * Add a column in dataset that contains the sum of the revenues of all months and then drop all other revenue  \n",
    "     columns.Do the same for data_usage columns.Also Drop the columns April_DUActivityDays and May_DUActivityDays\n",
    "     "
   ]
  },
  {
   "cell_type": "code",
   "execution_count": 16,
   "metadata": {
    "ExecuteTime": {
     "end_time": "2019-10-15T04:57:48.801039Z",
     "start_time": "2019-10-15T04:57:48.351244Z"
    }
   },
   "outputs": [
    {
     "data": {
      "text/html": [
       "<div>\n",
       "<style scoped>\n",
       "    .dataframe tbody tr th:only-of-type {\n",
       "        vertical-align: middle;\n",
       "    }\n",
       "\n",
       "    .dataframe tbody tr th {\n",
       "        vertical-align: top;\n",
       "    }\n",
       "\n",
       "    .dataframe thead th {\n",
       "        text-align: right;\n",
       "    }\n",
       "</style>\n",
       "<table border=\"1\" class=\"dataframe\">\n",
       "  <thead>\n",
       "    <tr style=\"text-align: right;\">\n",
       "      <th></th>\n",
       "      <th>DEL_NO</th>\n",
       "      <th>FCD</th>\n",
       "      <th>HandSetType_JAN</th>\n",
       "      <th>HandSetType_FEB</th>\n",
       "      <th>HandSetType_MAR</th>\n",
       "      <th>HandSetType_APR</th>\n",
       "      <th>HandSetType_MAY</th>\n",
       "      <th>2G-3G_Latch_JAN</th>\n",
       "      <th>2G-3G_Latch_FEB</th>\n",
       "      <th>2G-3G_Latch_MAR</th>\n",
       "      <th>2G-3G_Latch_APR</th>\n",
       "      <th>2G-3G_Latch_MAY</th>\n",
       "      <th>DUProfile_JAN</th>\n",
       "      <th>DUProfile_FEB</th>\n",
       "      <th>DUProfile_MAR</th>\n",
       "      <th>DUProfile_APR</th>\n",
       "      <th>DUProfile_May</th>\n",
       "      <th>Customer Type</th>\n",
       "      <th>total_rev</th>\n",
       "      <th>total_use</th>\n",
       "    </tr>\n",
       "  </thead>\n",
       "  <tbody>\n",
       "    <tr>\n",
       "      <th>0</th>\n",
       "      <td>1</td>\n",
       "      <td>03-11-2010</td>\n",
       "      <td>SmartPhone</td>\n",
       "      <td>SmartPhone</td>\n",
       "      <td>SmartPhone</td>\n",
       "      <td>SmartPhone</td>\n",
       "      <td>SmartPhone</td>\n",
       "      <td>3G</td>\n",
       "      <td>3G</td>\n",
       "      <td>3G</td>\n",
       "      <td>3G</td>\n",
       "      <td>3G</td>\n",
       "      <td>H</td>\n",
       "      <td>M</td>\n",
       "      <td>M</td>\n",
       "      <td>M</td>\n",
       "      <td>M</td>\n",
       "      <td>Consistent_M</td>\n",
       "      <td>573.0</td>\n",
       "      <td>4512.0</td>\n",
       "    </tr>\n",
       "    <tr>\n",
       "      <th>10</th>\n",
       "      <td>11</td>\n",
       "      <td>12-11-2010</td>\n",
       "      <td>SmartPhone</td>\n",
       "      <td>FeaturePhone</td>\n",
       "      <td>SmartPhone</td>\n",
       "      <td>SmartPhone</td>\n",
       "      <td>SmartPhone</td>\n",
       "      <td>3G</td>\n",
       "      <td>3G</td>\n",
       "      <td>3G</td>\n",
       "      <td>3G</td>\n",
       "      <td>3G</td>\n",
       "      <td>L</td>\n",
       "      <td>L</td>\n",
       "      <td>L</td>\n",
       "      <td>M</td>\n",
       "      <td>M</td>\n",
       "      <td>Consistent_M</td>\n",
       "      <td>759.0</td>\n",
       "      <td>1475.0</td>\n",
       "    </tr>\n",
       "    <tr>\n",
       "      <th>13</th>\n",
       "      <td>14</td>\n",
       "      <td>19-07-2013</td>\n",
       "      <td>SmartPhone</td>\n",
       "      <td>SmartPhone</td>\n",
       "      <td>SmartPhone</td>\n",
       "      <td>SmartPhone</td>\n",
       "      <td>SmartPhone</td>\n",
       "      <td>3G</td>\n",
       "      <td>3G</td>\n",
       "      <td>3G</td>\n",
       "      <td>3G</td>\n",
       "      <td>3G</td>\n",
       "      <td>M</td>\n",
       "      <td>H</td>\n",
       "      <td>M</td>\n",
       "      <td>M</td>\n",
       "      <td>M</td>\n",
       "      <td>Consistent_M</td>\n",
       "      <td>1058.0</td>\n",
       "      <td>4554.0</td>\n",
       "    </tr>\n",
       "    <tr>\n",
       "      <th>26</th>\n",
       "      <td>27</td>\n",
       "      <td>08-04-2014</td>\n",
       "      <td>SmartPhone</td>\n",
       "      <td>SmartPhone</td>\n",
       "      <td>SmartPhone</td>\n",
       "      <td>SmartPhone</td>\n",
       "      <td>SmartPhone</td>\n",
       "      <td>3G</td>\n",
       "      <td>3G</td>\n",
       "      <td>3G</td>\n",
       "      <td>3G</td>\n",
       "      <td>3G</td>\n",
       "      <td>L</td>\n",
       "      <td>L</td>\n",
       "      <td>M</td>\n",
       "      <td>M</td>\n",
       "      <td>M</td>\n",
       "      <td>Consistent_M</td>\n",
       "      <td>339.0</td>\n",
       "      <td>1680.0</td>\n",
       "    </tr>\n",
       "    <tr>\n",
       "      <th>41</th>\n",
       "      <td>42</td>\n",
       "      <td>16-09-2014</td>\n",
       "      <td>SmartPhone</td>\n",
       "      <td>SmartPhone</td>\n",
       "      <td>SmartPhone</td>\n",
       "      <td>SmartPhone</td>\n",
       "      <td>SmartPhone</td>\n",
       "      <td>3G</td>\n",
       "      <td>3G</td>\n",
       "      <td>3G</td>\n",
       "      <td>3G</td>\n",
       "      <td>3G</td>\n",
       "      <td>M</td>\n",
       "      <td>M</td>\n",
       "      <td>M</td>\n",
       "      <td>M</td>\n",
       "      <td>M</td>\n",
       "      <td>Consistent_M</td>\n",
       "      <td>544.0</td>\n",
       "      <td>4048.0</td>\n",
       "    </tr>\n",
       "  </tbody>\n",
       "</table>\n",
       "</div>"
      ],
      "text/plain": [
       "   DEL_NO         FCD HandSetType_JAN HandSetType_FEB HandSetType_MAR  \\\n",
       "0       1  03-11-2010      SmartPhone      SmartPhone      SmartPhone   \n",
       "10     11  12-11-2010      SmartPhone    FeaturePhone      SmartPhone   \n",
       "13     14  19-07-2013      SmartPhone      SmartPhone      SmartPhone   \n",
       "26     27  08-04-2014      SmartPhone      SmartPhone      SmartPhone   \n",
       "41     42  16-09-2014      SmartPhone      SmartPhone      SmartPhone   \n",
       "\n",
       "   HandSetType_APR HandSetType_MAY 2G-3G_Latch_JAN 2G-3G_Latch_FEB  \\\n",
       "0       SmartPhone      SmartPhone              3G              3G   \n",
       "10      SmartPhone      SmartPhone              3G              3G   \n",
       "13      SmartPhone      SmartPhone              3G              3G   \n",
       "26      SmartPhone      SmartPhone              3G              3G   \n",
       "41      SmartPhone      SmartPhone              3G              3G   \n",
       "\n",
       "   2G-3G_Latch_MAR 2G-3G_Latch_APR 2G-3G_Latch_MAY DUProfile_JAN  \\\n",
       "0               3G              3G              3G             H   \n",
       "10              3G              3G              3G             L   \n",
       "13              3G              3G              3G             M   \n",
       "26              3G              3G              3G             L   \n",
       "41              3G              3G              3G             M   \n",
       "\n",
       "   DUProfile_FEB DUProfile_MAR DUProfile_APR DUProfile_May Customer Type  \\\n",
       "0              M             M             M             M  Consistent_M   \n",
       "10             L             L             M             M  Consistent_M   \n",
       "13             H             M             M             M  Consistent_M   \n",
       "26             L             M             M             M  Consistent_M   \n",
       "41             M             M             M             M  Consistent_M   \n",
       "\n",
       "    total_rev  total_use  \n",
       "0       573.0     4512.0  \n",
       "10      759.0     1475.0  \n",
       "13     1058.0     4554.0  \n",
       "26      339.0     1680.0  \n",
       "41      544.0     4048.0  "
      ]
     },
     "execution_count": 16,
     "metadata": {},
     "output_type": "execute_result"
    }
   ],
   "source": [
    "rev[\"total_rev\"]=rev.DataRevenue_JAN+rev.DataRevenue_FEB+rev.DataRevenue_MAR+rev.DataRevenue_APR+rev.DataRevenue_May\n",
    "rev.head()\n",
    "\n",
    "rev[\"total_use\"]=rev.DataUsageMB_JAN+rev.DataUsageMB_FEB+rev.DataUsageMB_MAR+rev.DataUsageMB_APR+rev.DataUsageMB_May\n",
    "rev.head()\n",
    "\n",
    "rev=rev.drop(rev.columns[[2, 3, 4,5,6,7,8,9,10,11,17,18]],axis=1)\n",
    "rev.head()"
   ]
  },
  {
   "cell_type": "markdown",
   "metadata": {},
   "source": [
    "   * get the scatterplot of data_usage(the one you created in previous question) and revenue_generated(the one\n",
    "      you created in previous question)    "
   ]
  },
  {
   "cell_type": "code",
   "execution_count": 20,
   "metadata": {
    "ExecuteTime": {
     "end_time": "2019-10-15T05:40:10.731602Z",
     "start_time": "2019-10-15T05:40:09.948697Z"
    }
   },
   "outputs": [
    {
     "data": {
      "text/plain": [
       "<matplotlib.axes._subplots.AxesSubplot at 0x2bb2a9b7198>"
      ]
     },
     "execution_count": 20,
     "metadata": {},
     "output_type": "execute_result"
    },
    {
     "data": {
      "image/png": "[encoded data removed]",
      "text/plain": [
       "<Figure size 432x288 with 1 Axes>"
      ]
     },
     "metadata": {
      "needs_background": "light"
     },
     "output_type": "display_data"
    }
   ],
   "source": [
    "import seaborn as sns\n",
    "sns.regplot(x=rev[\"total_use\"], y=rev[\"total_rev\"])"
   ]
  },
  {
   "cell_type": "markdown",
   "metadata": {},
   "source": [
    "   * Obtain the number of categories each object type column variable has (except the column variable Del_No)\n",
    "   "
   ]
  },
  {
   "cell_type": "code",
   "execution_count": 14,
   "metadata": {},
   "outputs": [
    {
     "name": "stdout",
     "output_type": "stream",
     "text": [
      "DEL_NO : 5242\n",
      "FCD : 1873\n",
      "HandSetType_JAN : 3\n",
      "HandSetType_FEB : 2\n",
      "HandSetType_MAR : 2\n",
      "HandSetType_APR : 2\n",
      "HandSetType_MAY : 2\n",
      "2G-3G_Latch_JAN : 1\n",
      "2G-3G_Latch_FEB : 1\n",
      "2G-3G_Latch_MAR : 1\n",
      "2G-3G_Latch_APR : 1\n",
      "2G-3G_Latch_MAY : 1\n",
      "DUProfile_JAN : 3\n",
      "DUProfile_FEB : 3\n",
      "DUProfile_MAR : 3\n",
      "DUProfile_APR : 3\n",
      "DUProfile_May : 3\n",
      "Customer Type : 4\n"
     ]
    }
   ],
   "source": [
    "rev_cat_data=rev.select_dtypes(['object'])\n",
    "\n",
    "for c in rev_cat_data.columns:\n",
    "    print(c,\":\",rev[c].nunique())\n"
   ]
  },
  {
   "cell_type": "markdown",
   "metadata": {},
   "source": [
    "8\\. Import a data set 'exercise' which should not contain the index column.\n"
   ]
  },
  {
   "cell_type": "code",
   "execution_count": null,
   "metadata": {},
   "outputs": [],
   "source": [
    "myfile='C:/Users/Riya/Desktop/Data/exercise_assign.csv'\n",
    "ex=pd.read_csv(myfile,index_col=False)\n",
    "\n",
    "ex.head()"
   ]
  },
  {
   "cell_type": "markdown",
   "metadata": {},
   "source": [
    "   * Filter the data for which the value of exercise column='g' , meaning obtain all day,warm,uprunning,situp and \n",
    "     cooldown for which exercise is g\n",
    "     "
   ]
  },
  {
   "cell_type": "code",
   "execution_count": null,
   "metadata": {},
   "outputs": [],
   "source": [
    "ex[(ex.exercise=='g')]"
   ]
  },
  {
   "cell_type": "markdown",
   "metadata": {},
   "source": [
    "   * Select the columns warmup and running and situp, mutate a column total_time to this which contains the sum of \n",
    "     warmup and running and situp. Filter the dataset for which total_time>30\n",
    "     \n",
    "     "
   ]
  },
  {
   "cell_type": "code",
   "execution_count": null,
   "metadata": {},
   "outputs": [],
   "source": [
    "new_ex=ex[[\"warmup\",\"situp\",\"running\"]]\n",
    "new_ex\n",
    "\n",
    "for col in new_ex.columns:\n",
    "#     print(type(col))\n",
    "     new_ex[col]=pd.to_numeric(new_ex[col], errors='coerce')# converting object data type to numeric\n",
    "        \n",
    "new_ex.dtypes\n",
    "new_ex.head()\n",
    "\n",
    "new_ex=new_ex.dropna() #removing missing values\n",
    "\n",
    "new_ex[\"total_time\"]=new_ex.warmup+new_ex.situp+new_ex.running\n",
    "new_ex\n",
    "\n",
    "new_ex[(new_ex.total_time>30)] #Filter the dataset for which total_time>30\n"
   ]
  },
  {
   "cell_type": "markdown",
   "metadata": {},
   "source": [
    "   * select the column 'day', convert this into a list containing the first 7 rows and using enumerate function assign\n",
    "      1 to monday, 2 to tuesday,,,,,,,,,, 7 to sunday\n",
    "      \n",
    "      Example:\n",
    "      \n",
    "      day = ['Monday', 'Tuesday', 'Wednesday', 'Thursday','Friday','Saturday','Sunday']\n",
    "      list(enumerate(day,start=1))\n",
    "\n",
    "      This will return me the tuple as:\n",
    "\n",
    "      [(1, 'Sunday'),(2, 'Monday'),(3, 'Tuesday'),(4, 'Wednesday'),(5, 'Thursday'),(6, 'Friday'),(7, 'Saturday')]\n",
    "      "
   ]
  },
  {
   "cell_type": "code",
   "execution_count": null,
   "metadata": {},
   "outputs": [],
   "source": [
    "day=ex[[\"Day\"]]\n",
    "day\n",
    "\n",
    "week_days=day[0:7]\n",
    "week_days\n",
    "\n",
    "dList = week_days['Day'].tolist()\n",
    "dList\n",
    "\n",
    "list(enumerate(dList,start=1))\n"
   ]
  },
  {
   "cell_type": "markdown",
   "metadata": {},
   "source": [
    "**Dummy Coding**\n",
    "\n",
    "Biggest requirement of any data handling process is to deal with categorical/object variables. To deal with this we will be making dummy variables out of categorical/object variables.Dummy coding is a way of\n",
    "representing groups of people using only zeros and ones\n",
    "\n",
    "If category is present then 1\n",
    "If category is not present then 0\n",
    "\n",
    "(you can use any other numeric representation). To do it, we have to create several variables; in fact, the number of variables we need is one less than the number of groups we’re recoding that means if a variable has **n** categories the number of dummy variables will be **n-1**\n",
    "\n",
    "Example:\n",
    "\n",
    "df = pd.DataFrame({'A': ['a', 'b', 'c'], 'B': ['i', 'me', 'you'],'C': [1, 2, 3]})\n",
    "\n",
    "Here A and B are categorical variables for which dummies need to be created.You see here for 3 categories we have created 2 dummy variables for each object variable.\n",
    "\n",
    " C     dummy_a dummy_b  dummy_i dummy_me   \n",
    " 1       1       0       1       0       \n",
    " 2       0       1       0       1       \n",
    " 3       1       0       0       0       \n",
    "         \n",
    "*Explore why we take n-1 categorical variables as dummy for n categories.* \n",
    "\n",
    "In python,to get dummy variables, we use function:\n",
    "\n",
    "*pandas.get_dummies(data, prefix=None, prefix_sep='_', dummy_na=False, columns=None, drop_first=False)*\n",
    "\n",
    "explore this function\n",
    "\n",
    "**Question**\n",
    "\n",
    "* Obtain dummy variables for object variables day and exercise for above dataset.After obtaining dummy variables ,drop   the actual variable column from dataset\n"
   ]
  },
  {
   "cell_type": "code",
   "execution_count": null,
   "metadata": {},
   "outputs": [],
   "source": [
    "pd.get_dummies(ex, prefix=None, prefix_sep='_', dummy_na=False, columns=[\"Day\",\"exercise\"], drop_first=True)"
   ]
  },
  {
   "cell_type": "markdown",
   "metadata": {},
   "source": [
    "<br><br>\n",
    "\n",
    "-------------------------------------------finish-------------------------------------------\n",
    "\n",
    "\n",
    "<br><br>\n",
    "\n",
    "In case of any queries, write us on Q&A forum or drop us a mail.\n",
    "\n",
    "Prepared by:\n",
    "\n",
    "Riya Agrawal\n",
    "\n",
    "www.riya.agrawal@edvancer.in\n",
    "\n",
    "Lalit Sachan\n",
    "\n",
    "www.lalit.sachan@edvancer.in\n",
    "\n",
    "\n",
    "\n",
    "\n",
    "\n",
    "   "
   ]
  },
  {
   "cell_type": "code",
   "execution_count": null,
   "metadata": {
    "collapsed": true
   },
   "outputs": [],
   "source": []
  }
 ],
 "metadata": {
  "anaconda-cloud": {},
  "kernelspec": {
   "display_name": "Python 3",
   "language": "python",
   "name": "python3"
  },
  "language_info": {
   "codemirror_mode": {
    "name": "ipython",
    "version": 3
   },
   "file_extension": ".py",
   "mimetype": "text/x-python",
   "name": "python",
   "nbconvert_exporter": "python",
   "pygments_lexer": "ipython3",
   "version": "3.7.3"
  }
 },
 "nbformat": 4,
 "nbformat_minor": 1
}
